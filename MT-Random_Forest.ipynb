{
 "cells": [
  {
   "cell_type": "markdown",
   "metadata": {},
   "source": [
    "# Random Forest"
   ]
  },
  {
   "cell_type": "code",
   "execution_count": 1,
   "metadata": {},
   "outputs": [],
   "source": [
    "import numpy as np\n",
    "import pandas as pd\n",
    "import matplotlib.pyplot as plt\n",
    "import random as rd\n",
    "from collections import defaultdict \n",
    "from sklearn.model_selection import train_test_split\n",
    "from sklearn.preprocessing import LabelEncoder, StandardScaler\n",
    "from sklearn.ensemble import RandomForestClassifier\n",
    "\n",
    "# Du precedent projet\n",
    "import randomforest as rf "
   ]
  },
  {
   "cell_type": "markdown",
   "metadata": {},
   "source": [
    "## 1. Importation des données"
   ]
  },
  {
   "cell_type": "code",
   "execution_count": 2,
   "metadata": {},
   "outputs": [],
   "source": [
    "data = pd.read_csv(\"data.csv\")"
   ]
  },
  {
   "cell_type": "code",
   "execution_count": 3,
   "metadata": {},
   "outputs": [
    {
     "name": "stdout",
     "output_type": "stream",
     "text": [
      "(1000, 29)\n"
     ]
    },
    {
     "data": {
      "text/html": [
       "<div>\n",
       "<style scoped>\n",
       "    .dataframe tbody tr th:only-of-type {\n",
       "        vertical-align: middle;\n",
       "    }\n",
       "\n",
       "    .dataframe tbody tr th {\n",
       "        vertical-align: top;\n",
       "    }\n",
       "\n",
       "    .dataframe thead th {\n",
       "        text-align: right;\n",
       "    }\n",
       "</style>\n",
       "<table border=\"1\" class=\"dataframe\">\n",
       "  <thead>\n",
       "    <tr style=\"text-align: right;\">\n",
       "      <th></th>\n",
       "      <th>filename</th>\n",
       "      <th>chroma_stft</th>\n",
       "      <th>rms</th>\n",
       "      <th>spectral_centroid</th>\n",
       "      <th>spectral_bandwidth</th>\n",
       "      <th>rolloff</th>\n",
       "      <th>zero_crossing_rate</th>\n",
       "      <th>mfcc1</th>\n",
       "      <th>mfcc2</th>\n",
       "      <th>mfcc3</th>\n",
       "      <th>...</th>\n",
       "      <th>mfcc13</th>\n",
       "      <th>mfcc14</th>\n",
       "      <th>mfcc15</th>\n",
       "      <th>mfcc16</th>\n",
       "      <th>mfcc17</th>\n",
       "      <th>mfcc18</th>\n",
       "      <th>mfcc19</th>\n",
       "      <th>mfcc20</th>\n",
       "      <th>estimated_tempo</th>\n",
       "      <th>genre/label</th>\n",
       "    </tr>\n",
       "  </thead>\n",
       "  <tbody>\n",
       "    <tr>\n",
       "      <th>0</th>\n",
       "      <td>country.00094</td>\n",
       "      <td>0.366838</td>\n",
       "      <td>0.206715</td>\n",
       "      <td>1474.849928</td>\n",
       "      <td>1745.839794</td>\n",
       "      <td>3108.264538</td>\n",
       "      <td>0.062993</td>\n",
       "      <td>-104.34503</td>\n",
       "      <td>136.39078</td>\n",
       "      <td>-20.945368</td>\n",
       "      <td>...</td>\n",
       "      <td>-6.495045</td>\n",
       "      <td>0.037380</td>\n",
       "      <td>-2.035180</td>\n",
       "      <td>2.197093</td>\n",
       "      <td>-7.109390</td>\n",
       "      <td>1.849674</td>\n",
       "      <td>1.675598</td>\n",
       "      <td>-1.492039</td>\n",
       "      <td>112.347147</td>\n",
       "      <td>country</td>\n",
       "    </tr>\n",
       "    <tr>\n",
       "      <th>1</th>\n",
       "      <td>country.00025</td>\n",
       "      <td>0.347253</td>\n",
       "      <td>0.079920</td>\n",
       "      <td>1565.431223</td>\n",
       "      <td>2016.069774</td>\n",
       "      <td>3188.930717</td>\n",
       "      <td>0.057303</td>\n",
       "      <td>-200.55273</td>\n",
       "      <td>119.67490</td>\n",
       "      <td>-3.610737</td>\n",
       "      <td>...</td>\n",
       "      <td>-6.048296</td>\n",
       "      <td>-0.800009</td>\n",
       "      <td>-4.699653</td>\n",
       "      <td>-11.293138</td>\n",
       "      <td>-8.870809</td>\n",
       "      <td>-8.073557</td>\n",
       "      <td>-3.161044</td>\n",
       "      <td>0.330751</td>\n",
       "      <td>143.554688</td>\n",
       "      <td>country</td>\n",
       "    </tr>\n",
       "    <tr>\n",
       "      <th>2</th>\n",
       "      <td>country.00076</td>\n",
       "      <td>0.297332</td>\n",
       "      <td>0.128385</td>\n",
       "      <td>1321.679067</td>\n",
       "      <td>1409.586676</td>\n",
       "      <td>2590.392670</td>\n",
       "      <td>0.066525</td>\n",
       "      <td>-183.93301</td>\n",
       "      <td>159.80644</td>\n",
       "      <td>-23.158834</td>\n",
       "      <td>...</td>\n",
       "      <td>-7.383808</td>\n",
       "      <td>0.604945</td>\n",
       "      <td>-3.383083</td>\n",
       "      <td>-3.583324</td>\n",
       "      <td>-9.062474</td>\n",
       "      <td>-3.159365</td>\n",
       "      <td>-4.068544</td>\n",
       "      <td>-7.052489</td>\n",
       "      <td>143.554688</td>\n",
       "      <td>country</td>\n",
       "    </tr>\n",
       "    <tr>\n",
       "      <th>3</th>\n",
       "      <td>country.00030</td>\n",
       "      <td>0.221390</td>\n",
       "      <td>0.079631</td>\n",
       "      <td>1240.515214</td>\n",
       "      <td>1996.754074</td>\n",
       "      <td>2412.635411</td>\n",
       "      <td>0.042844</td>\n",
       "      <td>-277.08127</td>\n",
       "      <td>128.25803</td>\n",
       "      <td>42.433240</td>\n",
       "      <td>...</td>\n",
       "      <td>-7.227779</td>\n",
       "      <td>-7.456974</td>\n",
       "      <td>-1.575342</td>\n",
       "      <td>1.391878</td>\n",
       "      <td>3.080010</td>\n",
       "      <td>2.513260</td>\n",
       "      <td>-1.051766</td>\n",
       "      <td>-2.753359</td>\n",
       "      <td>161.499023</td>\n",
       "      <td>country</td>\n",
       "    </tr>\n",
       "    <tr>\n",
       "      <th>4</th>\n",
       "      <td>country.00089</td>\n",
       "      <td>0.322114</td>\n",
       "      <td>0.104638</td>\n",
       "      <td>1321.678546</td>\n",
       "      <td>1667.211777</td>\n",
       "      <td>2583.926042</td>\n",
       "      <td>0.052503</td>\n",
       "      <td>-205.12328</td>\n",
       "      <td>140.99438</td>\n",
       "      <td>-8.959963</td>\n",
       "      <td>...</td>\n",
       "      <td>-2.352035</td>\n",
       "      <td>4.481439</td>\n",
       "      <td>-5.014471</td>\n",
       "      <td>3.140506</td>\n",
       "      <td>-4.527332</td>\n",
       "      <td>2.654261</td>\n",
       "      <td>-3.122376</td>\n",
       "      <td>-10.710899</td>\n",
       "      <td>143.554688</td>\n",
       "      <td>country</td>\n",
       "    </tr>\n",
       "  </tbody>\n",
       "</table>\n",
       "<p>5 rows × 29 columns</p>\n",
       "</div>"
      ],
      "text/plain": [
       "        filename  chroma_stft       rms  spectral_centroid  \\\n",
       "0  country.00094     0.366838  0.206715        1474.849928   \n",
       "1  country.00025     0.347253  0.079920        1565.431223   \n",
       "2  country.00076     0.297332  0.128385        1321.679067   \n",
       "3  country.00030     0.221390  0.079631        1240.515214   \n",
       "4  country.00089     0.322114  0.104638        1321.678546   \n",
       "\n",
       "   spectral_bandwidth      rolloff  zero_crossing_rate      mfcc1      mfcc2  \\\n",
       "0         1745.839794  3108.264538            0.062993 -104.34503  136.39078   \n",
       "1         2016.069774  3188.930717            0.057303 -200.55273  119.67490   \n",
       "2         1409.586676  2590.392670            0.066525 -183.93301  159.80644   \n",
       "3         1996.754074  2412.635411            0.042844 -277.08127  128.25803   \n",
       "4         1667.211777  2583.926042            0.052503 -205.12328  140.99438   \n",
       "\n",
       "       mfcc3  ...    mfcc13    mfcc14    mfcc15     mfcc16    mfcc17  \\\n",
       "0 -20.945368  ... -6.495045  0.037380 -2.035180   2.197093 -7.109390   \n",
       "1  -3.610737  ... -6.048296 -0.800009 -4.699653 -11.293138 -8.870809   \n",
       "2 -23.158834  ... -7.383808  0.604945 -3.383083  -3.583324 -9.062474   \n",
       "3  42.433240  ... -7.227779 -7.456974 -1.575342   1.391878  3.080010   \n",
       "4  -8.959963  ... -2.352035  4.481439 -5.014471   3.140506 -4.527332   \n",
       "\n",
       "     mfcc18    mfcc19     mfcc20  estimated_tempo  genre/label  \n",
       "0  1.849674  1.675598  -1.492039       112.347147      country  \n",
       "1 -8.073557 -3.161044   0.330751       143.554688      country  \n",
       "2 -3.159365 -4.068544  -7.052489       143.554688      country  \n",
       "3  2.513260 -1.051766  -2.753359       161.499023      country  \n",
       "4  2.654261 -3.122376 -10.710899       143.554688      country  \n",
       "\n",
       "[5 rows x 29 columns]"
      ]
     },
     "execution_count": 3,
     "metadata": {},
     "output_type": "execute_result"
    }
   ],
   "source": [
    "print(data.shape)\n",
    "data.head()"
   ]
  },
  {
   "cell_type": "code",
   "execution_count": 4,
   "metadata": {},
   "outputs": [],
   "source": [
    "# On supprime la premiere colonne\n",
    "data = data.drop(['filename'],axis=1)\n",
    "\n",
    "# On change les noms des genres par des entiers (de 0 a 9) car notre random forest ne prend en compte que des entiers comme labels\n",
    "genre_list = data.iloc[:, -1]\n",
    "encoder = LabelEncoder()\n",
    "labels = encoder.fit_transform(genre_list)\n",
    "data.iloc[:, -1] = labels"
   ]
  },
  {
   "cell_type": "code",
   "execution_count": 5,
   "metadata": {},
   "outputs": [],
   "source": [
    "# On normalise le dataset\n",
    "scaler = StandardScaler()\n",
    "data = scaler.fit_transform(np.array(data.iloc[:, :-1], dtype = float))"
   ]
  },
  {
   "cell_type": "markdown",
   "metadata": {},
   "source": [
    "## 2. Réglage des hyperparamètres"
   ]
  },
  {
   "cell_type": "markdown",
   "metadata": {},
   "source": [
    "## 3. Apprentissage\n",
    "On reprend le modèle que nous avions implementé lors du précédent projet."
   ]
  },
  {
   "cell_type": "code",
   "execution_count": 6,
   "metadata": {},
   "outputs": [],
   "source": [
    "# On separe le dataset en train set et test set (80%/20%)\n",
    "data_train, data_test, label_train, label_test = train_test_split(data, labels, test_size=0.2)"
   ]
  },
  {
   "cell_type": "code",
   "execution_count": 7,
   "metadata": {},
   "outputs": [],
   "source": [
    "# On convertit data_train en un dictionnaire pour pouvoir le traiter\n",
    "# les clés étant les labels representant respectivement un genre de musique.\n",
    "\n",
    "data_train_dict = defaultdict(list)\n",
    "for k in range(data_train.shape[0]):\n",
    "    data_train_dict[label_train[k]].append(data_train[k])"
   ]
  },
  {
   "cell_type": "code",
   "execution_count": 8,
   "metadata": {},
   "outputs": [
    {
     "name": "stdout",
     "output_type": "stream",
     "text": [
      "La musique caracterisee par [-1.85953021 -1.69003906 -2.3074728  -2.21758478 -2.61248048 -1.63474084\n",
      " -3.21873231  2.6348123   3.38495378 -1.84804673  0.88189596 -1.53958536\n",
      "  0.46526103 -1.90564152  0.16891031 -2.59132852  0.11904781 -1.49603276\n",
      "  0.86924647 -1.45508557  0.3402476  -1.0774451   0.70750102 -1.08027028\n",
      "  0.11195597 -0.39078592 -1.03872078] a ete categorisee en ['classical']\n"
     ]
    }
   ],
   "source": [
    "root = rf.Node(data_train_dict)\n",
    "list_trees = rf.randomForest(root.data, 500, 100, 10)\n",
    "guessed_label = rf.forestClassify(list_trees, data_test[1,:], len(labels))\n",
    "guessed_genre = encoder.inverse_transform(np.array([guessed_label]))\n",
    "print(\"La musique caracterisee par {0} a ete categorisee en {1}\".format(data_test[1,:], guessed_genre))"
   ]
  },
  {
   "cell_type": "markdown",
   "metadata": {},
   "source": [
    "Essayons maintenant sur l'ensemble des données de `data_train`"
   ]
  },
  {
   "cell_type": "code",
   "execution_count": 9,
   "metadata": {},
   "outputs": [
    {
     "name": "stdout",
     "output_type": "stream",
     "text": [
      "Our function made good predictions at  61.5 % rate\n",
      "Sklearn function made good predictions at  59.5 % rate\n"
     ]
    }
   ],
   "source": [
    "guesses = [rf.forestClassify(list_trees, data_test[i,:], len(labels)) for i in range(data_test.shape[0])]\n",
    "\n",
    "print(\"Our function made good predictions at \", rf.score(guesses, label_test)*100, \"% rate\")\n",
    "\n",
    "sklearn_rf = RandomForestClassifier(n_estimators=15, max_depth=5, max_features='sqrt')\n",
    "sklearn_rf.fit(data_train, label_train)\n",
    "guessess = sklearn_rf.predict(data_test)\n",
    "\n",
    "print(\"Sklearn function made good predictions at \", rf.score(guessess, label_test)*100,\"% rate\")"
   ]
  }
 ],
 "metadata": {
  "file_extension": ".py",
  "kernelspec": {
   "display_name": "Python 3.7.6 64-bit",
   "language": "python",
   "name": "python37664bit130b65de45ae4ae8a1d5066beb0585a6"
  },
  "language_info": {
   "codemirror_mode": {
    "name": "ipython",
    "version": 3
   },
   "file_extension": ".py",
   "mimetype": "text/x-python",
   "name": "python",
   "nbconvert_exporter": "python",
   "pygments_lexer": "ipython3",
   "version": "3.7.6"
  },
  "mimetype": "text/x-python",
  "name": "python",
  "npconvert_exporter": "python",
  "pygments_lexer": "ipython3",
  "version": 3
 },
 "nbformat": 4,
 "nbformat_minor": 2
}

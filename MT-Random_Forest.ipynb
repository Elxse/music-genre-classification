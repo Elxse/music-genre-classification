{
 "cells": [
  {
   "cell_type": "markdown",
   "metadata": {},
   "source": [
    "# Random Forest"
   ]
  },
  {
   "cell_type": "code",
   "execution_count": 2,
   "metadata": {},
   "outputs": [],
   "source": [
    "import numpy as np\n",
    "import pandas as pd\n",
    "import matplotlib.pyplot as plt\n",
    "import random as rd\n",
    "import time\n",
    "import pickle\n",
    "from collections import defaultdict \n",
    "\n",
    "# Scikit-kearn modules\n",
    "from sklearn.model_selection import train_test_split\n",
    "from sklearn.preprocessing import LabelEncoder, StandardScaler\n",
    "from sklearn.ensemble import RandomForestClassifier\n",
    "\n",
    "# Nos modules\n",
    "from modules.random_forest import OurRandomForestClassifier\n",
    "import modules.scoring as sc\n",
    "import modules.feature_selection as fs\n",
    "import modules.params_tuning as pt"
   ]
  },
  {
   "cell_type": "markdown",
   "metadata": {},
   "source": [
    "## 1. Importation des données"
   ]
  },
  {
   "cell_type": "code",
   "execution_count": 3,
   "metadata": {},
   "outputs": [],
   "source": [
    "data = pd.read_csv(\"data.csv\")"
   ]
  },
  {
   "cell_type": "code",
   "execution_count": 4,
   "metadata": {},
   "outputs": [
    {
     "name": "stdout",
     "output_type": "stream",
     "text": [
      "(1000, 32)\n"
     ]
    },
    {
     "data": {
      "text/html": [
       "<div>\n",
       "<style scoped>\n",
       "    .dataframe tbody tr th:only-of-type {\n",
       "        vertical-align: middle;\n",
       "    }\n",
       "\n",
       "    .dataframe tbody tr th {\n",
       "        vertical-align: top;\n",
       "    }\n",
       "\n",
       "    .dataframe thead th {\n",
       "        text-align: right;\n",
       "    }\n",
       "</style>\n",
       "<table border=\"1\" class=\"dataframe\">\n",
       "  <thead>\n",
       "    <tr style=\"text-align: right;\">\n",
       "      <th></th>\n",
       "      <th>filename</th>\n",
       "      <th>chroma_stft</th>\n",
       "      <th>rms</th>\n",
       "      <th>spectral_centroid</th>\n",
       "      <th>spectral_bandwidth</th>\n",
       "      <th>rolloff</th>\n",
       "      <th>zero_crossing_rate</th>\n",
       "      <th>mfcc1</th>\n",
       "      <th>mfcc2</th>\n",
       "      <th>mfcc3</th>\n",
       "      <th>...</th>\n",
       "      <th>mfcc16</th>\n",
       "      <th>mfcc17</th>\n",
       "      <th>mfcc18</th>\n",
       "      <th>mfcc19</th>\n",
       "      <th>mfcc20</th>\n",
       "      <th>spectral_contrast</th>\n",
       "      <th>spectral_flatness</th>\n",
       "      <th>tonnetz</th>\n",
       "      <th>estimated_tempo</th>\n",
       "      <th>genre/label</th>\n",
       "    </tr>\n",
       "  </thead>\n",
       "  <tbody>\n",
       "    <tr>\n",
       "      <th>0</th>\n",
       "      <td>country.00094</td>\n",
       "      <td>0.366838</td>\n",
       "      <td>0.206715</td>\n",
       "      <td>1474.849928</td>\n",
       "      <td>1745.839794</td>\n",
       "      <td>3108.264538</td>\n",
       "      <td>0.062993</td>\n",
       "      <td>-104.34503</td>\n",
       "      <td>136.39078</td>\n",
       "      <td>-20.945368</td>\n",
       "      <td>...</td>\n",
       "      <td>2.197093</td>\n",
       "      <td>-7.109390</td>\n",
       "      <td>1.849674</td>\n",
       "      <td>1.675598</td>\n",
       "      <td>-1.492039</td>\n",
       "      <td>23.567712</td>\n",
       "      <td>0.001825</td>\n",
       "      <td>0.026578</td>\n",
       "      <td>112.347147</td>\n",
       "      <td>country</td>\n",
       "    </tr>\n",
       "    <tr>\n",
       "      <th>1</th>\n",
       "      <td>country.00025</td>\n",
       "      <td>0.347253</td>\n",
       "      <td>0.079920</td>\n",
       "      <td>1565.431223</td>\n",
       "      <td>2016.069774</td>\n",
       "      <td>3188.930717</td>\n",
       "      <td>0.057303</td>\n",
       "      <td>-200.55273</td>\n",
       "      <td>119.67490</td>\n",
       "      <td>-3.610737</td>\n",
       "      <td>...</td>\n",
       "      <td>-11.293138</td>\n",
       "      <td>-8.870809</td>\n",
       "      <td>-8.073557</td>\n",
       "      <td>-3.161044</td>\n",
       "      <td>0.330751</td>\n",
       "      <td>19.845071</td>\n",
       "      <td>0.008667</td>\n",
       "      <td>0.018447</td>\n",
       "      <td>143.554688</td>\n",
       "      <td>country</td>\n",
       "    </tr>\n",
       "    <tr>\n",
       "      <th>2</th>\n",
       "      <td>country.00076</td>\n",
       "      <td>0.297332</td>\n",
       "      <td>0.128385</td>\n",
       "      <td>1321.679067</td>\n",
       "      <td>1409.586676</td>\n",
       "      <td>2590.392670</td>\n",
       "      <td>0.066525</td>\n",
       "      <td>-183.93301</td>\n",
       "      <td>159.80644</td>\n",
       "      <td>-23.158834</td>\n",
       "      <td>...</td>\n",
       "      <td>-3.583324</td>\n",
       "      <td>-9.062474</td>\n",
       "      <td>-3.159365</td>\n",
       "      <td>-4.068544</td>\n",
       "      <td>-7.052489</td>\n",
       "      <td>23.526738</td>\n",
       "      <td>0.001220</td>\n",
       "      <td>-0.013900</td>\n",
       "      <td>143.554688</td>\n",
       "      <td>country</td>\n",
       "    </tr>\n",
       "    <tr>\n",
       "      <th>3</th>\n",
       "      <td>country.00030</td>\n",
       "      <td>0.221390</td>\n",
       "      <td>0.079631</td>\n",
       "      <td>1240.515214</td>\n",
       "      <td>1996.754074</td>\n",
       "      <td>2412.635411</td>\n",
       "      <td>0.042844</td>\n",
       "      <td>-277.08127</td>\n",
       "      <td>128.25803</td>\n",
       "      <td>42.433240</td>\n",
       "      <td>...</td>\n",
       "      <td>1.391878</td>\n",
       "      <td>3.080010</td>\n",
       "      <td>2.513260</td>\n",
       "      <td>-1.051766</td>\n",
       "      <td>-2.753359</td>\n",
       "      <td>22.093318</td>\n",
       "      <td>0.002381</td>\n",
       "      <td>-0.009946</td>\n",
       "      <td>161.499023</td>\n",
       "      <td>country</td>\n",
       "    </tr>\n",
       "    <tr>\n",
       "      <th>4</th>\n",
       "      <td>country.00089</td>\n",
       "      <td>0.322114</td>\n",
       "      <td>0.104638</td>\n",
       "      <td>1321.678546</td>\n",
       "      <td>1667.211777</td>\n",
       "      <td>2583.926042</td>\n",
       "      <td>0.052503</td>\n",
       "      <td>-205.12328</td>\n",
       "      <td>140.99438</td>\n",
       "      <td>-8.959963</td>\n",
       "      <td>...</td>\n",
       "      <td>3.140506</td>\n",
       "      <td>-4.527332</td>\n",
       "      <td>2.654261</td>\n",
       "      <td>-3.122376</td>\n",
       "      <td>-10.710899</td>\n",
       "      <td>24.189410</td>\n",
       "      <td>0.001850</td>\n",
       "      <td>0.002900</td>\n",
       "      <td>143.554688</td>\n",
       "      <td>country</td>\n",
       "    </tr>\n",
       "  </tbody>\n",
       "</table>\n",
       "<p>5 rows × 32 columns</p>\n",
       "</div>"
      ],
      "text/plain": [
       "        filename  chroma_stft       rms  spectral_centroid  \\\n",
       "0  country.00094     0.366838  0.206715        1474.849928   \n",
       "1  country.00025     0.347253  0.079920        1565.431223   \n",
       "2  country.00076     0.297332  0.128385        1321.679067   \n",
       "3  country.00030     0.221390  0.079631        1240.515214   \n",
       "4  country.00089     0.322114  0.104638        1321.678546   \n",
       "\n",
       "   spectral_bandwidth      rolloff  zero_crossing_rate      mfcc1      mfcc2  \\\n",
       "0         1745.839794  3108.264538            0.062993 -104.34503  136.39078   \n",
       "1         2016.069774  3188.930717            0.057303 -200.55273  119.67490   \n",
       "2         1409.586676  2590.392670            0.066525 -183.93301  159.80644   \n",
       "3         1996.754074  2412.635411            0.042844 -277.08127  128.25803   \n",
       "4         1667.211777  2583.926042            0.052503 -205.12328  140.99438   \n",
       "\n",
       "       mfcc3  ...     mfcc16    mfcc17    mfcc18    mfcc19     mfcc20  \\\n",
       "0 -20.945368  ...   2.197093 -7.109390  1.849674  1.675598  -1.492039   \n",
       "1  -3.610737  ... -11.293138 -8.870809 -8.073557 -3.161044   0.330751   \n",
       "2 -23.158834  ...  -3.583324 -9.062474 -3.159365 -4.068544  -7.052489   \n",
       "3  42.433240  ...   1.391878  3.080010  2.513260 -1.051766  -2.753359   \n",
       "4  -8.959963  ...   3.140506 -4.527332  2.654261 -3.122376 -10.710899   \n",
       "\n",
       "   spectral_contrast  spectral_flatness   tonnetz  estimated_tempo  \\\n",
       "0          23.567712           0.001825  0.026578       112.347147   \n",
       "1          19.845071           0.008667  0.018447       143.554688   \n",
       "2          23.526738           0.001220 -0.013900       143.554688   \n",
       "3          22.093318           0.002381 -0.009946       161.499023   \n",
       "4          24.189410           0.001850  0.002900       143.554688   \n",
       "\n",
       "   genre/label  \n",
       "0      country  \n",
       "1      country  \n",
       "2      country  \n",
       "3      country  \n",
       "4      country  \n",
       "\n",
       "[5 rows x 32 columns]"
      ]
     },
     "execution_count": 4,
     "metadata": {},
     "output_type": "execute_result"
    }
   ],
   "source": [
    "print(data.shape)\n",
    "data.head()"
   ]
  },
  {
   "cell_type": "code",
   "execution_count": 5,
   "metadata": {},
   "outputs": [],
   "source": [
    "# On supprime la premiere colonne\n",
    "data = data.drop(['filename'],axis=1)\n",
    "\n",
    "# On change les noms des genres par des entiers (de 0 a 9)\n",
    "genre_list = data.iloc[:, -1]\n",
    "encoder = LabelEncoder()\n",
    "labels = encoder.fit_transform(genre_list)\n",
    "data.iloc[:, -1] = labels"
   ]
  },
  {
   "cell_type": "code",
   "execution_count": 6,
   "metadata": {},
   "outputs": [],
   "source": [
    "# On standardise le dataset\n",
    "scaler = StandardScaler()\n",
    "data_normalized = scaler.fit_transform(np.array(data.iloc[:, :-1], dtype = float))"
   ]
  },
  {
   "cell_type": "markdown",
   "metadata": {},
   "source": [
    "## 2. Apprentissage du modèle de base"
   ]
  },
  {
   "cell_type": "code",
   "execution_count": 7,
   "metadata": {},
   "outputs": [
    {
     "name": "stdout",
     "output_type": "stream",
     "text": [
      "data_train (800, 30) | label_train (800,)\n",
      "data_test  (200, 30) | label_test  (200,)\n"
     ]
    }
   ],
   "source": [
    "# On separe le dataset en train set et test set (80%/20%)\n",
    "data_train, data_test, label_train, label_test = train_test_split(data_normalized, labels, test_size=0.2)\n",
    "print(\"data_train {0} | label_train {1}\".format(data_train.shape, label_train.shape))\n",
    "print(\"data_test  {0} | label_test  {1}\".format(data_test.shape, label_test.shape))"
   ]
  },
  {
   "cell_type": "markdown",
   "metadata": {},
   "source": [
    "Notre random forest a cinq paramètres :\n",
    "   - `n_trees` -- le nombre d'arbres de la forêt\n",
    "   - `n_samples` -- le nombre de données à placer dans le noeud de chaque arbre avant qu'il ne soit partitionné\n",
    "   - `n_cuts` -- le nombre de coupes à tester pour trouver la meilleure\n",
    "   - `max_depth` -- la profondeur maximale de chaque arbre\n",
    "   - `max_features` -- le nombre de caractéristiques à choisir lors de l'entraînement du modèle"
   ]
  },
  {
   "cell_type": "markdown",
   "metadata": {},
   "source": [
    "`OurRandomForestClassifier` et `OurDecisionTreeClassifier` ont en commun les trois derniers paramètres. Nous avons trouver la meilleure combinaison de ces paramètres dans le notebook `MT-Decision_Tree.ipynb`."
   ]
  },
  {
   "cell_type": "code",
   "execution_count": 8,
   "metadata": {},
   "outputs": [
    {
     "name": "stdout",
     "output_type": "stream",
     "text": [
      "The best hyperparameters for a decision tree are:\n",
      " {'n_cuts': 40, 'max_depth': 45, 'max_features': 30}\n"
     ]
    }
   ],
   "source": [
    "with open(\"models/best_dtc.pickle\", \"rb\") as output:\n",
    "    best_dtc = pickle.load(output)\n",
    "\n",
    "print(\"The best hyperparameters for a decision tree are:\\n\", best_dtc.get_params())"
   ]
  },
  {
   "cell_type": "markdown",
   "metadata": {},
   "source": [
    "Nous avons donc initialisé à ces valeurs les paramètres de la classe `OurRandomForestClassifier`. On entraîne le modèle de base, dont les paramètres par défaut sont :\n",
    "\n",
    "        n_trees = 100\n",
    "        n_samples = 100\n",
    "        n_cuts = 40\n",
    "        max_depth = 30\n",
    "        max_features = 30"
   ]
  },
  {
   "cell_type": "code",
   "execution_count": 9,
   "metadata": {},
   "outputs": [
    {
     "name": "stdout",
     "output_type": "stream",
     "text": [
      "Execution time for building the forest: 32.737719 sec\n"
     ]
    }
   ],
   "source": [
    "# Initialisation de la random forest\n",
    "base_model = OurRandomForestClassifier() \n",
    "\n",
    "# Entrainement du modèle de base\n",
    "start = time.time()\n",
    "base_model.fit(data_train, label_train)\n",
    "end = time.time()\n",
    "print(\"Execution time for building the forest: %f sec\"%(float(end) - float(start)))\n",
    "\n",
    "# Test de validation\n",
    "base_model_predictions = base_model.predict(data_test)\n",
    "base_model.score_ = sc.accuracy_score(base_model_predictions, label_test) * 100"
   ]
  },
  {
   "cell_type": "code",
   "execution_count": 10,
   "metadata": {},
   "outputs": [],
   "source": [
    "# Comparaison avec sklearn\n",
    "sklearn_rf = RandomForestClassifier(n_estimators=100, max_depth=45, max_features=30)\n",
    "sklearn_rf.fit(data_train, label_train)\n",
    "sklearn_predictions = sklearn_rf.predict(data_test)"
   ]
  },
  {
   "cell_type": "code",
   "execution_count": 11,
   "metadata": {},
   "outputs": [
    {
     "name": "stdout",
     "output_type": "stream",
     "text": [
      "Our random forest score : 66.0 %\n",
      "Sklearn score : 71.0 %\n"
     ]
    }
   ],
   "source": [
    "print(\"Our random forest score : {} %\".format(base_model.score_))\n",
    "print(\"Sklearn score : {} %\".format(sc.accuracy_score(sklearn_predictions, label_test) * 100))"
   ]
  },
  {
   "cell_type": "markdown",
   "metadata": {},
   "source": [
    "## 3. Wrapper-based Feature Selection\n",
    "Un moyen d'améliorer notre modèle est de sélectionner les caractéristiques les plus discriminantes."
   ]
  },
  {
   "cell_type": "code",
   "execution_count": 12,
   "metadata": {},
   "outputs": [
    {
     "name": "stdout",
     "output_type": "stream",
     "text": [
      "Shape of the dataset  (800, 30)\n",
      "Size of the dataset before feature selection: 0.19 MB\n"
     ]
    }
   ],
   "source": [
    "print(\"Shape of the dataset \", data_train.shape)\n",
    "print(\"Size of the dataset before feature selection: %.2f MB\"%(data_train.nbytes/1e6))\n",
    "features_name = data.drop(['genre/label'], axis=1).columns"
   ]
  },
  {
   "cell_type": "code",
   "execution_count": 13,
   "metadata": {},
   "outputs": [
    {
     "name": "stdout",
     "output_type": "stream",
     "text": [
      "Execution time to find the most important feature: 38.737534 sec\n"
     ]
    }
   ],
   "source": [
    "start = time.time()\n",
    "features, importances = fs.findFeatureImportance(estimator=base_model, X=data_train, y=label_train)\n",
    "end = time.time()\n",
    "print(\"Execution time to find the most important feature: %f sec\"%(float(end) - float(start)))"
   ]
  },
  {
   "cell_type": "code",
   "execution_count": 14,
   "metadata": {},
   "outputs": [
    {
     "data": {
      "text/html": [
       "<div>\n",
       "<style scoped>\n",
       "    .dataframe tbody tr th:only-of-type {\n",
       "        vertical-align: middle;\n",
       "    }\n",
       "\n",
       "    .dataframe tbody tr th {\n",
       "        vertical-align: top;\n",
       "    }\n",
       "\n",
       "    .dataframe thead th {\n",
       "        text-align: right;\n",
       "    }\n",
       "</style>\n",
       "<table border=\"1\" class=\"dataframe\">\n",
       "  <thead>\n",
       "    <tr style=\"text-align: right;\">\n",
       "      <th></th>\n",
       "      <th>feature</th>\n",
       "      <th>importance</th>\n",
       "    </tr>\n",
       "  </thead>\n",
       "  <tbody>\n",
       "    <tr>\n",
       "      <th>26</th>\n",
       "      <td>spectral_contrast</td>\n",
       "      <td>0.13000</td>\n",
       "    </tr>\n",
       "    <tr>\n",
       "      <th>0</th>\n",
       "      <td>chroma_stft</td>\n",
       "      <td>0.03750</td>\n",
       "    </tr>\n",
       "    <tr>\n",
       "      <th>9</th>\n",
       "      <td>mfcc4</td>\n",
       "      <td>0.03375</td>\n",
       "    </tr>\n",
       "    <tr>\n",
       "      <th>6</th>\n",
       "      <td>mfcc1</td>\n",
       "      <td>0.02000</td>\n",
       "    </tr>\n",
       "    <tr>\n",
       "      <th>25</th>\n",
       "      <td>mfcc20</td>\n",
       "      <td>0.01500</td>\n",
       "    </tr>\n",
       "    <tr>\n",
       "      <th>18</th>\n",
       "      <td>mfcc13</td>\n",
       "      <td>0.01375</td>\n",
       "    </tr>\n",
       "    <tr>\n",
       "      <th>19</th>\n",
       "      <td>mfcc14</td>\n",
       "      <td>0.01375</td>\n",
       "    </tr>\n",
       "    <tr>\n",
       "      <th>8</th>\n",
       "      <td>mfcc3</td>\n",
       "      <td>0.01250</td>\n",
       "    </tr>\n",
       "    <tr>\n",
       "      <th>27</th>\n",
       "      <td>spectral_flatness</td>\n",
       "      <td>0.01125</td>\n",
       "    </tr>\n",
       "    <tr>\n",
       "      <th>14</th>\n",
       "      <td>mfcc9</td>\n",
       "      <td>0.01125</td>\n",
       "    </tr>\n",
       "  </tbody>\n",
       "</table>\n",
       "</div>"
      ],
      "text/plain": [
       "              feature  importance\n",
       "26  spectral_contrast     0.13000\n",
       "0         chroma_stft     0.03750\n",
       "9               mfcc4     0.03375\n",
       "6               mfcc1     0.02000\n",
       "25             mfcc20     0.01500\n",
       "18             mfcc13     0.01375\n",
       "19             mfcc14     0.01375\n",
       "8               mfcc3     0.01250\n",
       "27  spectral_flatness     0.01125\n",
       "14              mfcc9     0.01125"
      ]
     },
     "execution_count": 14,
     "metadata": {},
     "output_type": "execute_result"
    }
   ],
   "source": [
    "feature_importances = pd.DataFrame(zip(features_name, importances), columns = ['feature','importance']).sort_values('importance', ascending=False)\n",
    "\n",
    "feature_importances[:10]"
   ]
  },
  {
   "cell_type": "markdown",
   "metadata": {},
   "source": [
    "On sélectionne les caractéristiques dont l'importance est supérieure à 0.01"
   ]
  },
  {
   "cell_type": "code",
   "execution_count": 15,
   "metadata": {},
   "outputs": [
    {
     "name": "stdout",
     "output_type": "stream",
     "text": [
      "Shape of the dataset  (800, 11)\n",
      "Size of the dataset after feature selection: 0.07 MB\n"
     ]
    }
   ],
   "source": [
    "# On sélectionne les caractéristiques dont l'importance est supérieure à 0.01\n",
    "indexes = feature_importances[feature_importances['importance'] > 0.01].index\n",
    "\n",
    "# On transforme le dataset d'entrainement (fs = feature selection)\n",
    "fs_data_train = fs.transform(data_train, indexes)\n",
    "fs_data_test = fs.transform(data_test, indexes)\n",
    "\n",
    "print(\"Shape of the dataset \", fs_data_train.shape)\n",
    "print(\"Size of the dataset after feature selection: %.2f MB\"%(fs_data_train.nbytes/1e6))"
   ]
  },
  {
   "cell_type": "markdown",
   "metadata": {},
   "source": [
    "On entraîne le modèle de base avec les caractéristiques sélectionnées."
   ]
  },
  {
   "cell_type": "code",
   "execution_count": 16,
   "metadata": {},
   "outputs": [
    {
     "name": "stdout",
     "output_type": "stream",
     "text": [
      "Execution time for building the forest: 43.311919 sec\n"
     ]
    }
   ],
   "source": [
    "# Entrainement du modèle de base avec feature selection\n",
    "fs_base_model = OurRandomForestClassifier(max_features=len(indexes))\n",
    "\n",
    "start = time.time()\n",
    "fs_base_model.fit(fs_data_train, label_train)\n",
    "end = time.time()\n",
    "print(\"Execution time for building the forest: %f sec\"%(float(end) - float(start)))\n",
    "\n",
    "# Test de validation\n",
    "fs_base_model_predictions = fs_base_model.predict(fs_data_test)\n",
    "fs_base_model.score_ = sc.accuracy_score(fs_base_model_predictions, label_test) * 100"
   ]
  },
  {
   "cell_type": "code",
   "execution_count": 17,
   "metadata": {},
   "outputs": [],
   "source": [
    "# Comparaison avec sklearn\n",
    "sklearn_rf.max_features = len(indexes)\n",
    "sklearn_rf.fit(fs_data_train, label_train)\n",
    "fs_sklearn_predictions = sklearn_rf.predict(fs_data_test)"
   ]
  },
  {
   "cell_type": "markdown",
   "metadata": {},
   "source": [
    "On compare les scores obtenus avant et après la sélection des caractéristiques."
   ]
  },
  {
   "cell_type": "code",
   "execution_count": 27,
   "metadata": {},
   "outputs": [
    {
     "name": "stdout",
     "output_type": "stream",
     "text": [
      "Before feature selection\n",
      "Our random forest score: 66.0 %\n",
      "Sklearn score: 71.0 %\n",
      "\n",
      "After feature selection\n",
      "Our random forest score: 64.0 %\n",
      "Sklearn score: 66.5 %\n"
     ]
    }
   ],
   "source": [
    "# Score\n",
    "print(\"Before feature selection\")\n",
    "print(\"Our random forest score: {} %\".format(base_model.score_))\n",
    "print(\"Sklearn score: {} %\\n\".format(sc.accuracy_score(sklearn_predictions, label_test)*100))\n",
    "\n",
    "print(\"After feature selection\")\n",
    "print(\"Our random forest score: {} %\".format(fs_base_model.score_))\n",
    "print(\"Sklearn score: {} %\".format(sc.accuracy_score(fs_sklearn_predictions, label_test)*100))"
   ]
  },
  {
   "cell_type": "markdown",
   "metadata": {},
   "source": [
    "## 4. Réglage des hyperparamètres"
   ]
  },
  {
   "cell_type": "markdown",
   "metadata": {},
   "source": [
    "Il reste deux paramètres à optimiser. Il s'agit de :\n",
    "   - `n_trees` -- le nombre d'arbres de la forêt\n",
    "   - `n_samples` -- le nombre de données à placer dans le noeud de chaque arbre avant qu'il ne soit partitionné"
   ]
  },
  {
   "cell_type": "markdown",
   "metadata": {},
   "source": [
    "### Grid Search Cross Validation\n",
    "Nous avons décidé de sauter l'étape de la recherche randomisée et de passer directement à la recherche par quadrillage pour deux raisons :\n",
    "- le nombre de combinaisons à tester est plutôt faible avec les intervalles que nous avons défini\n",
    "- le temps d'exécution est incroyablement long\n",
    "\n",
    "Donc nous avons préféré lancé une seule fois l'exécution, qui teste tous les combinaisons de paramètres possibles."
   ]
  },
  {
   "cell_type": "markdown",
   "metadata": {},
   "source": [
    "Justification des intervalles :\n",
    "- `n_trees` : en testant rapidement avec la random forest de sklearn, nous avons observé que le score ne change pas de manière significative à partir de 600 arbres.\n",
    "- `n_samples` : puisque nous effectuons une k-fold cv pour chaque modèle construit à partir d'une combinaison de paramètres, nous avons choisi arbitrairement de fixer `n_samples` à la taille du sous-échantillon créé lorsqu'on divise l'ensemble d'apprentissage en k sous-échantillons. "
   ]
  },
  {
   "cell_type": "code",
   "execution_count": 19,
   "metadata": {},
   "outputs": [],
   "source": [
    "k = 3 # k-fold CV"
   ]
  },
  {
   "cell_type": "code",
   "execution_count": 22,
   "metadata": {},
   "outputs": [
    {
     "name": "stdout",
     "output_type": "stream",
     "text": [
      "Grille d'hyperparametres :\n",
      "\n",
      "{'n_samples': [100, 155, 210, 266], 'n_trees': [200, 300, 400, 500, 600]}\n"
     ]
    }
   ],
   "source": [
    "# n_trees\n",
    "n_trees = [int(x) for x in np.linspace(start = 200, stop = 600, num = 5)] \n",
    "\n",
    "# n_samples\n",
    "max_samples = data_train.shape[0]//k\n",
    "n_samples = [int(x) for x in np.linspace(start = 100, stop = max_samples, num = 4)] \n",
    "\n",
    "# Creation de la grille\n",
    "param_grid = {'n_trees': n_trees,\n",
    "                'n_samples': n_samples}\n",
    "\n",
    "from pprint import pprint\n",
    "print(\"Grille d'hyperparametres :\\n\")\n",
    "pprint(param_grid)"
   ]
  },
  {
   "cell_type": "code",
   "execution_count": 23,
   "metadata": {},
   "outputs": [
    {
     "name": "stdout",
     "output_type": "stream",
     "text": [
      "Execution time for random search training: 14426.738479 sec\n"
     ]
    }
   ],
   "source": [
    "# 4 HEURES\n",
    "# Instanciation du grid search model\n",
    "grid_search_rfc = pt.GridSearchCV(estimator = OurRandomForestClassifier, \n",
    "                                  param_distributions = param_grid,\n",
    "                                  cv = k)\n",
    "\n",
    "# Entrainement du modele\n",
    "start = time.time()\n",
    "grid_search_rfc.fit(data_train, label_train)\n",
    "end = time.time()\n",
    "print(\"Execution time for random search training: %f sec\"%(float(end) - float(start)))"
   ]
  },
  {
   "cell_type": "markdown",
   "metadata": {},
   "source": [
    "La meilleur combinaison d'hyperparamètres est :"
   ]
  },
  {
   "cell_type": "code",
   "execution_count": 24,
   "metadata": {},
   "outputs": [
    {
     "name": "stdout",
     "output_type": "stream",
     "text": [
      "The best hyperparameters from Grid Search are:\n",
      " {'n_trees': 600, 'n_samples': 266, 'n_cuts': 40, 'max_depth': 45, 'max_features': 30}\n",
      "\n",
      "The mean accuracy of a model with these hyperparameters is:\n",
      " 0.72\n"
     ]
    }
   ],
   "source": [
    "print(\"The best hyperparameters from Grid Search are:\\n\", grid_search_rfc.best_params_)\n",
    "print(\"\")\n",
    "print(\"The mean accuracy of a model with these hyperparameters is:\\n %.2f\"%(grid_search_rfc.best_score_))"
   ]
  },
  {
   "cell_type": "markdown",
   "metadata": {},
   "source": [
    "On sauvegarde le meilleur modèle dans `best_rfc` :"
   ]
  },
  {
   "cell_type": "code",
   "execution_count": 25,
   "metadata": {},
   "outputs": [],
   "source": [
    "best_rfc = grid_search_rfc.best_estimator_"
   ]
  },
  {
   "cell_type": "markdown",
   "metadata": {},
   "source": [
    "## 5. Apprentissage du meilleur modèle et performance"
   ]
  },
  {
   "cell_type": "markdown",
   "metadata": {},
   "source": [
    "Maintenant que nous avons le meilleur modèle, entraînons-le et observons ses performances."
   ]
  },
  {
   "cell_type": "code",
   "execution_count": 26,
   "metadata": {},
   "outputs": [
    {
     "name": "stdout",
     "output_type": "stream",
     "text": [
      "Execution time for best random forest training: 512.638597 sec\n"
     ]
    }
   ],
   "source": [
    "# Entrainement du meilleur modele\n",
    "start = time.time()\n",
    "best_rfc.fit(data_train, label_train)\n",
    "end = time.time()\n",
    "print(\"Execution time for best random forest training: %f sec\"%(float(end) - float(start)))\n",
    "\n",
    "# Test de validation\n",
    "best_rfc_predictions = best_rfc.predict(data_test)\n",
    "best_rfc.score_ = sc.accuracy_score(best_rfc_predictions, label_test) * 100"
   ]
  },
  {
   "cell_type": "markdown",
   "metadata": {},
   "source": [
    "### Matrice de confusion"
   ]
  },
  {
   "cell_type": "code",
   "execution_count": 29,
   "metadata": {},
   "outputs": [],
   "source": [
    "# Association du genre a son label\n",
    "d = {\n",
    "    'genre': genre_list,\n",
    "    'genre_code': labels\n",
    "}\n",
    "df_genre = pd.DataFrame(d).drop_duplicates().sort_values('genre_code')"
   ]
  },
  {
   "cell_type": "code",
   "execution_count": 30,
   "metadata": {},
   "outputs": [
    {
     "data": {
      "image/png": "[encoded data removed]",
      "text/plain": [
       "<Figure size 921.6x432 with 2 Axes>"
      ]
     },
     "metadata": {
      "needs_background": "light"
     },
     "output_type": "display_data"
    }
   ],
   "source": [
    "from sklearn.metrics import confusion_matrix\n",
    "import seaborn as sns\n",
    "\n",
    "conf_matrix = confusion_matrix(label_test, best_rfc_predictions)\n",
    "plt.figure(figsize=(12.8,6))\n",
    "sns.heatmap(conf_matrix,\n",
    "            annot=True,\n",
    "            xticklabels=df_genre['genre'].values,\n",
    "            yticklabels=df_genre['genre'].values,\n",
    "            cmap=\"Blues\")\n",
    "            \n",
    "plt.ylabel('Predicted')\n",
    "plt.xlabel('Actual')\n",
    "plt.title('Confusion matrix for random forest')\n",
    "plt.savefig(\"models/confusion_matrix_rfc.png\")\n",
    "plt.show()\n",
    "plt.close()"
   ]
  },
  {
   "cell_type": "markdown",
   "metadata": {},
   "source": [
    "Voyons si le réglage des hyperparamètres a permis d'obtenir un meilleur modèle."
   ]
  },
  {
   "cell_type": "code",
   "execution_count": 31,
   "metadata": {},
   "outputs": [
    {
     "name": "stdout",
     "output_type": "stream",
     "text": [
      "Base model score: 66.0 %\n",
      "Best model score: 70.5 %\n"
     ]
    }
   ],
   "source": [
    "print(\"Base model score: {} %\".format(base_model.score_))\n",
    "print(\"Best model score: {} %\".format(best_rfc.score_ ))"
   ]
  },
  {
   "cell_type": "markdown",
   "metadata": {},
   "source": [
    "Sauvegardons le score du modèle pour pouvoir le comparer aux autres modèles."
   ]
  },
  {
   "cell_type": "code",
   "execution_count": 34,
   "metadata": {},
   "outputs": [],
   "source": [
    "d = {\n",
    "    'Model': 'Random Forest',\n",
    "    'Test Set Accuracy': best_rfc.score_\n",
    "}\n",
    "\n",
    "df_models_rfc = pd.DataFrame(d, index=[0])"
   ]
  },
  {
   "cell_type": "code",
   "execution_count": 35,
   "metadata": {},
   "outputs": [],
   "source": [
    "with open('Models/best_rfc.pickle', 'wb') as output:\n",
    "    pickle.dump(best_rfc, output)\n",
    "\n",
    "with open('Models/df_models_rfc.pickle', 'wb') as output:\n",
    "    pickle.dump(df_models_rfc, output)"
   ]
  }
 ],
 "metadata": {
  "file_extension": ".py",
  "kernelspec": {
   "display_name": "Python 3.7.6 64-bit",
   "language": "python",
   "name": "python37664bit130b65de45ae4ae8a1d5066beb0585a6"
  },
  "language_info": {
   "codemirror_mode": {
    "name": "ipython",
    "version": 3
   },
   "file_extension": ".py",
   "mimetype": "text/x-python",
   "name": "python",
   "nbconvert_exporter": "python",
   "pygments_lexer": "ipython3",
   "version": "3.7.6"
  },
  "mimetype": "text/x-python",
  "name": "python",
  "npconvert_exporter": "python",
  "pygments_lexer": "ipython3",
  "version": 3
 },
 "nbformat": 4,
 "nbformat_minor": 2
}
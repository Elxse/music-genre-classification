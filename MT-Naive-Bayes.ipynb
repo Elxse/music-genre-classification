{
 "cells": [
  {
   "cell_type": "code",
   "execution_count": 8,
   "metadata": {},
   "outputs": [],
   "source": [
    "import numpy as np\n",
    "import pandas as pd\n",
    "import matplotlib.pyplot as plt\n",
    "import random as rd\n",
    "import time\n",
    "import pickle\n",
    "from collections import defaultdict \n",
    "\n",
    "# Scikit-learn modules\n",
    "from sklearn.model_selection import train_test_split\n",
    "from sklearn.preprocessing import LabelEncoder, StandardScaler\n",
    "\n",
    "import naivebayes as nb\n",
    "import modules.feature_selection as fs"
   ]
  },
  {
   "cell_type": "code",
   "execution_count": 9,
   "metadata": {},
   "outputs": [],
   "source": [
    "data = pd.read_csv(\"data.csv\")\n",
    "featureNames = [e for e in data.columns]\n",
    "\n",
    "# On supprime la premiere colonne\n",
    "data = data.drop(['filename'],axis=1)\n",
    "\n",
    "#Test\n",
    "#data = data.drop(columns=['chroma_stft','rms','spectral_centroid','spectral_bandwidth','rolloff','zero_crossing_rate','spectral_flatness','tonnetz','estimated_tempo','spectral_contrast'])\n",
    "#data = data.drop(columns=['estimated_tempo'])\n",
    "\n",
    "# On change les noms des genres par des entiers (de 0 a 9) car notre random forest ne prend en compte que des entiers comme labels\n",
    "\n",
    "genre_list = data.iloc[:, -1]\n",
    "encoder = LabelEncoder()\n",
    "labels = encoder.fit_transform(genre_list)\n",
    "data.iloc[:, -1] = labels"
   ]
  },
  {
   "cell_type": "code",
   "execution_count": 10,
   "metadata": {},
   "outputs": [],
   "source": [
    "# On separe le dataset en train set et test set (80%/20%)\n",
    "data2 = data.copy()\n",
    "train_set = data2.sample(frac=0.80, random_state=rd.randint(0,100000))\n",
    "test_set = data2.drop(train_set.index)"
   ]
  },
  {
   "cell_type": "code",
   "execution_count": 11,
   "metadata": {},
   "outputs": [
    {
     "output_type": "stream",
     "name": "stdout",
     "text": "0.395\n"
    }
   ],
   "source": [
    "classifier = nb.OurNaiveBayesClassifier()\n",
    "classifier = classifier.fit(train_set)\n",
    "\n",
    "new_test_set = test_set.copy()\n",
    "new_test_set = new_test_set.drop(columns=['genre/label'])\n",
    "\n",
    "predictions = classifier.predict(new_test_set)\n",
    "result = classifier.score(predictions, test_set['genre/label'].to_list())\n",
    "\n",
    "print(result)\n",
    "\n",
    "#Ne marche pas pour l'instant\n",
    "#print(classifier.findFeatureImportance(train_set))"
   ]
  },
  {
   "cell_type": "markdown",
   "metadata": {},
   "source": [
    "## Wrapper-based Feature Selection"
   ]
  },
  {
   "cell_type": "code",
   "execution_count": 12,
   "metadata": {},
   "outputs": [
    {
     "output_type": "stream",
     "name": "stdout",
     "text": "data_train (800, 30) | label_train (800,)\ndata_test  (200, 30) | label_test  (200,)\n"
    }
   ],
   "source": [
    "# On normalise le dataset\n",
    "scaler = StandardScaler()\n",
    "data_normalized = scaler.fit_transform(np.array(data.iloc[:, :-1], dtype = float))\n",
    "\n",
    "# On separe le dataset en train set et test set (80%/20%)\n",
    "data_train, data_test, label_train, label_test = train_test_split(data_normalized, labels, test_size=0.2)\n",
    "n_samples, n_features = data_train.shape\n",
    "\n",
    "print(\"data_train {0} | label_train {1}\".format(data_train.shape, label_train.shape))\n",
    "print(\"data_test  {0} | label_test  {1}\".format(data_test.shape, label_test.shape))"
   ]
  },
  {
   "cell_type": "code",
   "execution_count": 13,
   "metadata": {},
   "outputs": [
    {
     "output_type": "stream",
     "name": "stdout",
     "text": "ind = 0\nind = 1\nind = 2\nind = 3\nind = 4\nind = 5\nind = 6\nind = 7\nind = 8\nind = 9\nind = 10\nind = 11\nind = 12\nind = 13\nind = 14\nind = 15\nind = 16\nind = 17\nind = 18\nind = 19\nind = 20\nind = 21\nind = 22\nind = 23\nind = 24\nind = 25\nind = 26\nind = 27\nind = 28\nind = 29\nExecution time to find the most important feature: 988.782691 sec\n"
    }
   ],
   "source": [
    "# 16 MIN\n",
    "start = time.time()\n",
    "features, importances = classifier.findFeatureImportance(train_set)\n",
    "end = time.time()\n",
    "print(\"Execution time to find the most important feature: %f sec\"%(float(end) - float(start)))"
   ]
  },
  {
   "cell_type": "code",
   "execution_count": 15,
   "metadata": {},
   "outputs": [
    {
     "output_type": "execute_result",
     "data": {
      "text/plain": "               feature  importance\n27   spectral_flatness     0.12375\n1                  rms     0.06875\n0          chroma_stft     0.04750\n5   zero_crossing_rate     0.02125\n26   spectral_contrast     0.01375\n28             tonnetz     0.01125\n18              mfcc13     0.00625\n20              mfcc15     0.00625\n16              mfcc11     0.00375\n17              mfcc12     0.00375",
      "text/html": "<div>\n<style scoped>\n    .dataframe tbody tr th:only-of-type {\n        vertical-align: middle;\n    }\n\n    .dataframe tbody tr th {\n        vertical-align: top;\n    }\n\n    .dataframe thead th {\n        text-align: right;\n    }\n</style>\n<table border=\"1\" class=\"dataframe\">\n  <thead>\n    <tr style=\"text-align: right;\">\n      <th></th>\n      <th>feature</th>\n      <th>importance</th>\n    </tr>\n  </thead>\n  <tbody>\n    <tr>\n      <th>27</th>\n      <td>spectral_flatness</td>\n      <td>0.12375</td>\n    </tr>\n    <tr>\n      <th>1</th>\n      <td>rms</td>\n      <td>0.06875</td>\n    </tr>\n    <tr>\n      <th>0</th>\n      <td>chroma_stft</td>\n      <td>0.04750</td>\n    </tr>\n    <tr>\n      <th>5</th>\n      <td>zero_crossing_rate</td>\n      <td>0.02125</td>\n    </tr>\n    <tr>\n      <th>26</th>\n      <td>spectral_contrast</td>\n      <td>0.01375</td>\n    </tr>\n    <tr>\n      <th>28</th>\n      <td>tonnetz</td>\n      <td>0.01125</td>\n    </tr>\n    <tr>\n      <th>18</th>\n      <td>mfcc13</td>\n      <td>0.00625</td>\n    </tr>\n    <tr>\n      <th>20</th>\n      <td>mfcc15</td>\n      <td>0.00625</td>\n    </tr>\n    <tr>\n      <th>16</th>\n      <td>mfcc11</td>\n      <td>0.00375</td>\n    </tr>\n    <tr>\n      <th>17</th>\n      <td>mfcc12</td>\n      <td>0.00375</td>\n    </tr>\n  </tbody>\n</table>\n</div>"
     },
     "metadata": {},
     "execution_count": 15
    }
   ],
   "source": [
    "features_name = data.drop(['genre/label'], axis=1).columns\n",
    "feature_importances = pd.DataFrame(zip(features_name, importances), columns = ['feature','importance']).sort_values('importance', ascending=False)\n",
    "\n",
    "feature_importances[:10]"
   ]
  }
 ],
 "metadata": {
  "kernelspec": {
   "display_name": "Python 3",
   "language": "python",
   "name": "python3"
  },
  "language_info": {
   "codemirror_mode": {
    "name": "ipython",
    "version": 3
   },
   "file_extension": ".py",
   "mimetype": "text/x-python",
   "name": "python",
   "nbconvert_exporter": "python",
   "pygments_lexer": "ipython3",
   "version": "3.7.3-final"
  }
 },
 "nbformat": 4,
 "nbformat_minor": 4
}
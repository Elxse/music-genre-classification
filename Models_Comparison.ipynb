{
 "cells": [
  {
   "cell_type": "markdown",
   "metadata": {},
   "source": [
    "# Comparaison des modèles\n",
    "Maintenant que nous avons entraîné tous nos modèles, comparons les."
   ]
  },
  {
   "cell_type": "code",
   "execution_count": 1,
   "metadata": {},
   "outputs": [],
   "source": [
    "import pickle\n",
    "import pandas as pd"
   ]
  },
  {
   "cell_type": "code",
   "execution_count": 2,
   "metadata": {},
   "outputs": [],
   "source": [
    "path_pickles = \"models/\"\n",
    "\n",
    "list_pickles = [\"df_models_dtc.pickle\", \"df_models_knn.pickle\", \"df_models_rfc.pickle\", \"df_models_oaasvm.pickle\", \"df_models_ovosvm.pickle\", \"df_models_nb.pickle\"]\n",
    "\n",
    "df_summary = pd.DataFrame()\n",
    "for pickle_ in list_pickles:\n",
    "    path = path_pickles + pickle_\n",
    "    with open(path, 'rb') as data:\n",
    "        df = pickle.load(data)\n",
    "    df_summary = df_summary.append(df)\n",
    "    "
   ]
  },
  {
   "cell_type": "code",
   "execution_count": 3,
   "metadata": {},
   "outputs": [
    {
     "output_type": "execute_result",
     "data": {
      "text/plain": "                 Model  Test Set Accuracy\n0        Decision Tree               54.0\n0  K Nearest Neighbors               73.5\n0        Random Forest               70.5\n0              OAA-SVM               67.5\n0              OVO-SVM               72.0\n0          Naive-Bayes               45.5",
      "text/html": "<div>\n<style scoped>\n    .dataframe tbody tr th:only-of-type {\n        vertical-align: middle;\n    }\n\n    .dataframe tbody tr th {\n        vertical-align: top;\n    }\n\n    .dataframe thead th {\n        text-align: right;\n    }\n</style>\n<table border=\"1\" class=\"dataframe\">\n  <thead>\n    <tr style=\"text-align: right;\">\n      <th></th>\n      <th>Model</th>\n      <th>Test Set Accuracy</th>\n    </tr>\n  </thead>\n  <tbody>\n    <tr>\n      <th>0</th>\n      <td>Decision Tree</td>\n      <td>54.0</td>\n    </tr>\n    <tr>\n      <th>0</th>\n      <td>K Nearest Neighbors</td>\n      <td>73.5</td>\n    </tr>\n    <tr>\n      <th>0</th>\n      <td>Random Forest</td>\n      <td>70.5</td>\n    </tr>\n    <tr>\n      <th>0</th>\n      <td>OAA-SVM</td>\n      <td>67.5</td>\n    </tr>\n    <tr>\n      <th>0</th>\n      <td>OVO-SVM</td>\n      <td>72.0</td>\n    </tr>\n    <tr>\n      <th>0</th>\n      <td>Naive-Bayes</td>\n      <td>45.5</td>\n    </tr>\n  </tbody>\n</table>\n</div>"
     },
     "metadata": {},
     "execution_count": 3
    }
   ],
   "source": [
    "df_summary"
   ]
  },
  {
   "cell_type": "code",
   "execution_count": 4,
   "metadata": {},
   "outputs": [
    {
     "output_type": "execute_result",
     "data": {
      "text/plain": "                 Model  Test Set Accuracy\n0  K Nearest Neighbors               73.5\n0              OVO-SVM               72.0\n0        Random Forest               70.5\n0              OAA-SVM               67.5\n0        Decision Tree               54.0\n0          Naive-Bayes               45.5",
      "text/html": "<div>\n<style scoped>\n    .dataframe tbody tr th:only-of-type {\n        vertical-align: middle;\n    }\n\n    .dataframe tbody tr th {\n        vertical-align: top;\n    }\n\n    .dataframe thead th {\n        text-align: right;\n    }\n</style>\n<table border=\"1\" class=\"dataframe\">\n  <thead>\n    <tr style=\"text-align: right;\">\n      <th></th>\n      <th>Model</th>\n      <th>Test Set Accuracy</th>\n    </tr>\n  </thead>\n  <tbody>\n    <tr>\n      <th>0</th>\n      <td>K Nearest Neighbors</td>\n      <td>73.5</td>\n    </tr>\n    <tr>\n      <th>0</th>\n      <td>OVO-SVM</td>\n      <td>72.0</td>\n    </tr>\n    <tr>\n      <th>0</th>\n      <td>Random Forest</td>\n      <td>70.5</td>\n    </tr>\n    <tr>\n      <th>0</th>\n      <td>OAA-SVM</td>\n      <td>67.5</td>\n    </tr>\n    <tr>\n      <th>0</th>\n      <td>Decision Tree</td>\n      <td>54.0</td>\n    </tr>\n    <tr>\n      <th>0</th>\n      <td>Naive-Bayes</td>\n      <td>45.5</td>\n    </tr>\n  </tbody>\n</table>\n</div>"
     },
     "metadata": {},
     "execution_count": 4
    }
   ],
   "source": [
    "df_summary.sort_values('Test Set Accuracy', ascending=False)"
   ]
  }
 ],
 "metadata": {
  "file_extension": ".py",
  "kernelspec": {
   "display_name": "Python 3",
   "language": "python",
   "name": "python3"
  },
  "language_info": {
   "codemirror_mode": {
    "name": "ipython",
    "version": 3
   },
   "file_extension": ".py",
   "mimetype": "text/x-python",
   "name": "python",
   "nbconvert_exporter": "python",
   "pygments_lexer": "ipython3",
   "version": "3.7.3-final"
  },
  "mimetype": "text/x-python",
  "name": "python",
  "npconvert_exporter": "python",
  "pygments_lexer": "ipython3",
  "version": 3
 },
 "nbformat": 4,
 "nbformat_minor": 2
}
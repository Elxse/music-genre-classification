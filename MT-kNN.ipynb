{
 "cells": [
  {
   "cell_type": "markdown",
   "metadata": {},
   "source": [
    "# K Nearest Neighbors\n",
    "* https://kevinzakka.github.io/2016/07/13/k-nearest-neighbor/\n",
    "* https://towardsdatascience.com/importance-of-distance-metrics-in-machine-learning-modelling-e51395ffe60d\n",
    "* https://www.ncbi.nlm.nih.gov/pmc/articles/PMC4978658/"
   ]
  },
  {
   "cell_type": "code",
   "execution_count": 14,
   "metadata": {},
   "outputs": [],
   "source": [
    "import numpy as np\n",
    "import pandas as pd\n",
    "import matplotlib.pyplot as plt\n",
    "import random as rd\n",
    "import time\n",
    "import pickle\n",
    "from collections import defaultdict \n",
    "\n",
    "# Scikit-learn modules\n",
    "from sklearn.model_selection import train_test_split\n",
    "from sklearn.preprocessing import LabelEncoder, StandardScaler\n",
    "from sklearn.neighbors import KNeighborsClassifier\n",
    "\n",
    "# Nos modules\n",
    "import modules.knn as knn\n",
    "import modules.scoring as sc\n",
    "import modules.feature_selection as fs\n",
    "import modules.params_tuning as pt"
   ]
  },
  {
   "cell_type": "markdown",
   "metadata": {},
   "source": [
    "## 1. Importation des données"
   ]
  },
  {
   "cell_type": "code",
   "execution_count": 15,
   "metadata": {},
   "outputs": [],
   "source": [
    "data = pd.read_csv(\"data.csv\")"
   ]
  },
  {
   "cell_type": "code",
   "execution_count": 16,
   "metadata": {},
   "outputs": [
    {
     "name": "stdout",
     "output_type": "stream",
     "text": [
      "(1000, 32)\n"
     ]
    },
    {
     "data": {
      "text/html": [
       "<div>\n",
       "<style scoped>\n",
       "    .dataframe tbody tr th:only-of-type {\n",
       "        vertical-align: middle;\n",
       "    }\n",
       "\n",
       "    .dataframe tbody tr th {\n",
       "        vertical-align: top;\n",
       "    }\n",
       "\n",
       "    .dataframe thead th {\n",
       "        text-align: right;\n",
       "    }\n",
       "</style>\n",
       "<table border=\"1\" class=\"dataframe\">\n",
       "  <thead>\n",
       "    <tr style=\"text-align: right;\">\n",
       "      <th></th>\n",
       "      <th>filename</th>\n",
       "      <th>chroma_stft</th>\n",
       "      <th>rms</th>\n",
       "      <th>spectral_centroid</th>\n",
       "      <th>spectral_bandwidth</th>\n",
       "      <th>rolloff</th>\n",
       "      <th>zero_crossing_rate</th>\n",
       "      <th>mfcc1</th>\n",
       "      <th>mfcc2</th>\n",
       "      <th>mfcc3</th>\n",
       "      <th>...</th>\n",
       "      <th>mfcc16</th>\n",
       "      <th>mfcc17</th>\n",
       "      <th>mfcc18</th>\n",
       "      <th>mfcc19</th>\n",
       "      <th>mfcc20</th>\n",
       "      <th>spectral_contrast</th>\n",
       "      <th>spectral_flatness</th>\n",
       "      <th>tonnetz</th>\n",
       "      <th>estimated_tempo</th>\n",
       "      <th>genre/label</th>\n",
       "    </tr>\n",
       "  </thead>\n",
       "  <tbody>\n",
       "    <tr>\n",
       "      <th>0</th>\n",
       "      <td>country.00094</td>\n",
       "      <td>0.366838</td>\n",
       "      <td>0.206715</td>\n",
       "      <td>1474.849928</td>\n",
       "      <td>1745.839794</td>\n",
       "      <td>3108.264538</td>\n",
       "      <td>0.062993</td>\n",
       "      <td>-104.34503</td>\n",
       "      <td>136.39078</td>\n",
       "      <td>-20.945368</td>\n",
       "      <td>...</td>\n",
       "      <td>2.197093</td>\n",
       "      <td>-7.109390</td>\n",
       "      <td>1.849674</td>\n",
       "      <td>1.675598</td>\n",
       "      <td>-1.492039</td>\n",
       "      <td>23.567712</td>\n",
       "      <td>0.001825</td>\n",
       "      <td>0.026578</td>\n",
       "      <td>112.347147</td>\n",
       "      <td>country</td>\n",
       "    </tr>\n",
       "    <tr>\n",
       "      <th>1</th>\n",
       "      <td>country.00025</td>\n",
       "      <td>0.347253</td>\n",
       "      <td>0.079920</td>\n",
       "      <td>1565.431223</td>\n",
       "      <td>2016.069774</td>\n",
       "      <td>3188.930717</td>\n",
       "      <td>0.057303</td>\n",
       "      <td>-200.55273</td>\n",
       "      <td>119.67490</td>\n",
       "      <td>-3.610737</td>\n",
       "      <td>...</td>\n",
       "      <td>-11.293138</td>\n",
       "      <td>-8.870809</td>\n",
       "      <td>-8.073557</td>\n",
       "      <td>-3.161044</td>\n",
       "      <td>0.330751</td>\n",
       "      <td>19.845071</td>\n",
       "      <td>0.008667</td>\n",
       "      <td>0.018447</td>\n",
       "      <td>143.554688</td>\n",
       "      <td>country</td>\n",
       "    </tr>\n",
       "    <tr>\n",
       "      <th>2</th>\n",
       "      <td>country.00076</td>\n",
       "      <td>0.297332</td>\n",
       "      <td>0.128385</td>\n",
       "      <td>1321.679067</td>\n",
       "      <td>1409.586676</td>\n",
       "      <td>2590.392670</td>\n",
       "      <td>0.066525</td>\n",
       "      <td>-183.93301</td>\n",
       "      <td>159.80644</td>\n",
       "      <td>-23.158834</td>\n",
       "      <td>...</td>\n",
       "      <td>-3.583324</td>\n",
       "      <td>-9.062474</td>\n",
       "      <td>-3.159365</td>\n",
       "      <td>-4.068544</td>\n",
       "      <td>-7.052489</td>\n",
       "      <td>23.526738</td>\n",
       "      <td>0.001220</td>\n",
       "      <td>-0.013900</td>\n",
       "      <td>143.554688</td>\n",
       "      <td>country</td>\n",
       "    </tr>\n",
       "    <tr>\n",
       "      <th>3</th>\n",
       "      <td>country.00030</td>\n",
       "      <td>0.221390</td>\n",
       "      <td>0.079631</td>\n",
       "      <td>1240.515214</td>\n",
       "      <td>1996.754074</td>\n",
       "      <td>2412.635411</td>\n",
       "      <td>0.042844</td>\n",
       "      <td>-277.08127</td>\n",
       "      <td>128.25803</td>\n",
       "      <td>42.433240</td>\n",
       "      <td>...</td>\n",
       "      <td>1.391878</td>\n",
       "      <td>3.080010</td>\n",
       "      <td>2.513260</td>\n",
       "      <td>-1.051766</td>\n",
       "      <td>-2.753359</td>\n",
       "      <td>22.093318</td>\n",
       "      <td>0.002381</td>\n",
       "      <td>-0.009946</td>\n",
       "      <td>161.499023</td>\n",
       "      <td>country</td>\n",
       "    </tr>\n",
       "    <tr>\n",
       "      <th>4</th>\n",
       "      <td>country.00089</td>\n",
       "      <td>0.322114</td>\n",
       "      <td>0.104638</td>\n",
       "      <td>1321.678546</td>\n",
       "      <td>1667.211777</td>\n",
       "      <td>2583.926042</td>\n",
       "      <td>0.052503</td>\n",
       "      <td>-205.12328</td>\n",
       "      <td>140.99438</td>\n",
       "      <td>-8.959963</td>\n",
       "      <td>...</td>\n",
       "      <td>3.140506</td>\n",
       "      <td>-4.527332</td>\n",
       "      <td>2.654261</td>\n",
       "      <td>-3.122376</td>\n",
       "      <td>-10.710899</td>\n",
       "      <td>24.189410</td>\n",
       "      <td>0.001850</td>\n",
       "      <td>0.002900</td>\n",
       "      <td>143.554688</td>\n",
       "      <td>country</td>\n",
       "    </tr>\n",
       "  </tbody>\n",
       "</table>\n",
       "<p>5 rows × 32 columns</p>\n",
       "</div>"
      ],
      "text/plain": [
       "        filename  chroma_stft       rms  spectral_centroid  \\\n",
       "0  country.00094     0.366838  0.206715        1474.849928   \n",
       "1  country.00025     0.347253  0.079920        1565.431223   \n",
       "2  country.00076     0.297332  0.128385        1321.679067   \n",
       "3  country.00030     0.221390  0.079631        1240.515214   \n",
       "4  country.00089     0.322114  0.104638        1321.678546   \n",
       "\n",
       "   spectral_bandwidth      rolloff  zero_crossing_rate      mfcc1      mfcc2  \\\n",
       "0         1745.839794  3108.264538            0.062993 -104.34503  136.39078   \n",
       "1         2016.069774  3188.930717            0.057303 -200.55273  119.67490   \n",
       "2         1409.586676  2590.392670            0.066525 -183.93301  159.80644   \n",
       "3         1996.754074  2412.635411            0.042844 -277.08127  128.25803   \n",
       "4         1667.211777  2583.926042            0.052503 -205.12328  140.99438   \n",
       "\n",
       "       mfcc3  ...     mfcc16    mfcc17    mfcc18    mfcc19     mfcc20  \\\n",
       "0 -20.945368  ...   2.197093 -7.109390  1.849674  1.675598  -1.492039   \n",
       "1  -3.610737  ... -11.293138 -8.870809 -8.073557 -3.161044   0.330751   \n",
       "2 -23.158834  ...  -3.583324 -9.062474 -3.159365 -4.068544  -7.052489   \n",
       "3  42.433240  ...   1.391878  3.080010  2.513260 -1.051766  -2.753359   \n",
       "4  -8.959963  ...   3.140506 -4.527332  2.654261 -3.122376 -10.710899   \n",
       "\n",
       "   spectral_contrast  spectral_flatness   tonnetz  estimated_tempo  \\\n",
       "0          23.567712           0.001825  0.026578       112.347147   \n",
       "1          19.845071           0.008667  0.018447       143.554688   \n",
       "2          23.526738           0.001220 -0.013900       143.554688   \n",
       "3          22.093318           0.002381 -0.009946       161.499023   \n",
       "4          24.189410           0.001850  0.002900       143.554688   \n",
       "\n",
       "   genre/label  \n",
       "0      country  \n",
       "1      country  \n",
       "2      country  \n",
       "3      country  \n",
       "4      country  \n",
       "\n",
       "[5 rows x 32 columns]"
      ]
     },
     "execution_count": 16,
     "metadata": {},
     "output_type": "execute_result"
    }
   ],
   "source": [
    "print(data.shape)\n",
    "data.head()"
   ]
  },
  {
   "cell_type": "code",
   "execution_count": 17,
   "metadata": {},
   "outputs": [],
   "source": [
    "# On supprime la premiere colonne\n",
    "data = data.drop(['filename'],axis=1)\n",
    "\n",
    "# On change les noms des genres par des entiers (de 0 a 9) car notre random forest ne prend en compte que des entiers comme labels\n",
    "genre_list = data.iloc[:, -1]\n",
    "encoder = LabelEncoder()\n",
    "labels = encoder.fit_transform(genre_list)\n",
    "data.iloc[:, -1] = labels"
   ]
  },
  {
   "cell_type": "code",
   "execution_count": 18,
   "metadata": {},
   "outputs": [],
   "source": [
    "# On normalise le dataset\n",
    "scaler = StandardScaler()\n",
    "data_normalized = scaler.fit_transform(np.array(data.iloc[:, :-1], dtype = float))"
   ]
  },
  {
   "cell_type": "markdown",
   "metadata": {},
   "source": [
    "## 2. Apprentissage du modèle de base\n",
    "Notre classifieur des k plus proches voisins a trois paramètres :\n",
    "* `n_neighbors` -- le nombre de voisins d'un point\n",
    "* `metric` -- la distance à appliquer\n",
    "* `p` -- l'ordre de la distance de Minkowski"
   ]
  },
  {
   "cell_type": "code",
   "execution_count": 19,
   "metadata": {},
   "outputs": [
    {
     "name": "stdout",
     "output_type": "stream",
     "text": [
      "data_train (800, 30) | label_train (800,)\n",
      "data_test  (200, 30) | label_test  (200,)\n"
     ]
    }
   ],
   "source": [
    "# On separe le dataset en train set et test set (80%/20%)\n",
    "data_train, data_test, label_train, label_test = train_test_split(data_normalized, labels, test_size=0.2)\n",
    "n_samples, n_features = data_train.shape\n",
    "\n",
    "print(\"data_train {0} | label_train {1}\".format(data_train.shape, label_train.shape))\n",
    "print(\"data_test  {0} | label_test  {1}\".format(data_test.shape, label_test.shape))"
   ]
  },
  {
   "cell_type": "markdown",
   "metadata": {},
   "source": [
    "On entraîne le modèle de base dont les paramètres par défaut sont :\n",
    "\n",
    "    n_neighbors = 1\n",
    "    metric = minkowski\n",
    "    p = 2"
   ]
  },
  {
   "cell_type": "code",
   "execution_count": 20,
   "metadata": {},
   "outputs": [
    {
     "name": "stdout",
     "output_type": "stream",
     "text": [
      "Execution time for predictions: 3.010942 sec\n"
     ]
    }
   ],
   "source": [
    "# Instantiation du modèle de base\n",
    "base_model = knn.OurKNeighborsClassifier()\n",
    "\n",
    "# Entrainement du modèle de base\n",
    "base_model.fit(data_train, label_train)\n",
    "\n",
    "# Test de validation\n",
    "start = time.time()\n",
    "base_model_predictions = base_model.predict(data_test)\n",
    "end = time.time()\n",
    "print(\"Execution time for predictions: %f sec\"%(float(end) - float(start)))\n",
    "\n",
    "base_model.score_ = sc.accuracy_score(base_model_predictions, label_test) * 100"
   ]
  },
  {
   "cell_type": "code",
   "execution_count": 21,
   "metadata": {},
   "outputs": [],
   "source": [
    "# Comparaison avec sklearn\n",
    "sklearn_rf = KNeighborsClassifier(n_neighbors=base_model.n_neighbors)\n",
    "sklearn_rf.fit(data_train, label_train)\n",
    "sklearn_predictions = sklearn_rf.predict(data_test)"
   ]
  },
  {
   "cell_type": "code",
   "execution_count": 22,
   "metadata": {},
   "outputs": [
    {
     "name": "stdout",
     "output_type": "stream",
     "text": [
      "Our k neighbors classifier score: 70.5 %\n",
      "Sklearn score: 70.5 %\n"
     ]
    }
   ],
   "source": [
    "print(\"Our k neighbors classifier score: {} %\".format(base_model.score_))\n",
    "print(\"Sklearn score: {} %\".format(sc.accuracy_score(sklearn_predictions, label_test) * 100))"
   ]
  },
  {
   "cell_type": "markdown",
   "metadata": {},
   "source": [
    "## 3. Feature selection\n",
    "Un moyen d'améliorer notre modèle est de sélectionner les caractéristiques les plus discriminantes. \n",
    "\n",
    "* https://towardsdatascience.com/de-coding-random-forests-82d4dcbb91a1\n",
    "* https://hub.packtpub.com/4-ways-implement-feature-selection-python-machine-learning/"
   ]
  },
  {
   "cell_type": "code",
   "execution_count": 23,
   "metadata": {},
   "outputs": [
    {
     "name": "stdout",
     "output_type": "stream",
     "text": [
      "Shape of the dataset  (800, 30)\n",
      "Size of the dataset before feature selection: 0.19 MB\n"
     ]
    }
   ],
   "source": [
    "print(\"Shape of the dataset \", data_train.shape)\n",
    "print(\"Size of the dataset before feature selection: %.2f MB\"%(data_train.nbytes/1e6))\n",
    "features_name = data.drop(['genre/label'], axis=1).columns"
   ]
  },
  {
   "cell_type": "code",
   "execution_count": 25,
   "metadata": {},
   "outputs": [
    {
     "name": "stdout",
     "output_type": "stream",
     "text": [
      "Execution time to find the most important feature: 467.606766 sec\n"
     ]
    }
   ],
   "source": [
    "# 7-8 MIN\n",
    "start = time.time()\n",
    "features, importances = fs.findFeatureImportance(base_model, data_train, label_train)\n",
    "end = time.time()\n",
    "print(\"Execution time to find the most important feature: %f sec\"%(float(end) - float(start)))"
   ]
  },
  {
   "cell_type": "code",
   "execution_count": 26,
   "metadata": {},
   "outputs": [
    {
     "data": {
      "text/html": [
       "<div>\n",
       "<style scoped>\n",
       "    .dataframe tbody tr th:only-of-type {\n",
       "        vertical-align: middle;\n",
       "    }\n",
       "\n",
       "    .dataframe tbody tr th {\n",
       "        vertical-align: top;\n",
       "    }\n",
       "\n",
       "    .dataframe thead th {\n",
       "        text-align: right;\n",
       "    }\n",
       "</style>\n",
       "<table border=\"1\" class=\"dataframe\">\n",
       "  <thead>\n",
       "    <tr style=\"text-align: right;\">\n",
       "      <th></th>\n",
       "      <th>feature</th>\n",
       "      <th>importance</th>\n",
       "    </tr>\n",
       "  </thead>\n",
       "  <tbody>\n",
       "    <tr>\n",
       "      <th>28</th>\n",
       "      <td>tonnetz</td>\n",
       "      <td>0.01125</td>\n",
       "    </tr>\n",
       "    <tr>\n",
       "      <th>27</th>\n",
       "      <td>spectral_flatness</td>\n",
       "      <td>0.01125</td>\n",
       "    </tr>\n",
       "    <tr>\n",
       "      <th>29</th>\n",
       "      <td>estimated_tempo</td>\n",
       "      <td>0.01000</td>\n",
       "    </tr>\n",
       "    <tr>\n",
       "      <th>14</th>\n",
       "      <td>mfcc9</td>\n",
       "      <td>0.00750</td>\n",
       "    </tr>\n",
       "    <tr>\n",
       "      <th>23</th>\n",
       "      <td>mfcc18</td>\n",
       "      <td>0.00750</td>\n",
       "    </tr>\n",
       "    <tr>\n",
       "      <th>24</th>\n",
       "      <td>mfcc19</td>\n",
       "      <td>0.00625</td>\n",
       "    </tr>\n",
       "    <tr>\n",
       "      <th>10</th>\n",
       "      <td>mfcc5</td>\n",
       "      <td>0.00625</td>\n",
       "    </tr>\n",
       "    <tr>\n",
       "      <th>9</th>\n",
       "      <td>mfcc4</td>\n",
       "      <td>0.00625</td>\n",
       "    </tr>\n",
       "    <tr>\n",
       "      <th>26</th>\n",
       "      <td>spectral_contrast</td>\n",
       "      <td>0.00500</td>\n",
       "    </tr>\n",
       "    <tr>\n",
       "      <th>11</th>\n",
       "      <td>mfcc6</td>\n",
       "      <td>0.00375</td>\n",
       "    </tr>\n",
       "  </tbody>\n",
       "</table>\n",
       "</div>"
      ],
      "text/plain": [
       "              feature  importance\n",
       "28            tonnetz     0.01125\n",
       "27  spectral_flatness     0.01125\n",
       "29    estimated_tempo     0.01000\n",
       "14              mfcc9     0.00750\n",
       "23             mfcc18     0.00750\n",
       "24             mfcc19     0.00625\n",
       "10              mfcc5     0.00625\n",
       "9               mfcc4     0.00625\n",
       "26  spectral_contrast     0.00500\n",
       "11              mfcc6     0.00375"
      ]
     },
     "execution_count": 26,
     "metadata": {},
     "output_type": "execute_result"
    }
   ],
   "source": [
    "feature_importances = pd.DataFrame(zip(features_name, importances), columns = ['feature','importance']).sort_values('importance', ascending=False)\n",
    "\n",
    "feature_importances[:10]"
   ]
  },
  {
   "cell_type": "markdown",
   "metadata": {},
   "source": [
    "On sélectionne les caractéristiques dont l'importance est supérieure à 0.001"
   ]
  },
  {
   "cell_type": "code",
   "execution_count": 28,
   "metadata": {},
   "outputs": [
    {
     "name": "stdout",
     "output_type": "stream",
     "text": [
      "Shape of the dataset  (800, 25)\n",
      "Size of the dataset after feature selection: 0.16 MB\n"
     ]
    }
   ],
   "source": [
    "# On sélectionne les caractéristiques dont l'importance est supérieure à 0.001\n",
    "indexes = feature_importances[feature_importances['importance'] > 0.001].index\n",
    "\n",
    "# On transforme le dataset d'entrainement\n",
    "fs_data_train = fs.transform(data_train, indexes)\n",
    "fs_data_test = fs.transform(data_test, indexes)\n",
    "\n",
    "print(\"Shape of the dataset \", fs_data_train.shape)\n",
    "print(\"Size of the dataset after feature selection: %.2f MB\"%(fs_data_train.nbytes/1e6))"
   ]
  },
  {
   "cell_type": "code",
   "execution_count": 30,
   "metadata": {},
   "outputs": [
    {
     "name": "stdout",
     "output_type": "stream",
     "text": [
      "Execution time for predictions with feature selection: 3.866915 sec\n"
     ]
    }
   ],
   "source": [
    "# Entrainement du modèle de base avec feature selection\n",
    "fs_base_model = knn.OurKNeighborsClassifier()\n",
    "fs_base_model.fit(fs_data_train, label_train)\n",
    "\n",
    "# Test de validation\n",
    "start = time.time()\n",
    "fs_base_model_predictions = fs_base_model.predict(fs_data_test)\n",
    "end = time.time()\n",
    "print(\"Execution time for predictions with feature selection: %f sec\"%(float(end) - float(start)))\n",
    "\n",
    "fs_base_model.score_ = sc.accuracy_score(fs_base_model_predictions, label_test) * 100"
   ]
  },
  {
   "cell_type": "code",
   "execution_count": 31,
   "metadata": {},
   "outputs": [],
   "source": [
    "# Comparaison avec sklearn\n",
    "sklearn_rf.fit(fs_data_train, label_train)\n",
    "fs_sklearn_predictions = sklearn_rf.predict(fs_data_test)"
   ]
  },
  {
   "cell_type": "code",
   "execution_count": 33,
   "metadata": {},
   "outputs": [
    {
     "name": "stdout",
     "output_type": "stream",
     "text": [
      "Our k neighbors classifier score after feature selection: 71.0 %\n",
      "Sklearn score : 71.0 %\n"
     ]
    }
   ],
   "source": [
    "# Score\n",
    "print(\"Our k neighbors classifier score after feature selection: {} %\".format(fs_base_model.score_))\n",
    "print(\"Sklearn score : {} %\".format(sc.accuracy_score(fs_sklearn_predictions, label_test) * 100))   "
   ]
  },
  {
   "cell_type": "markdown",
   "metadata": {},
   "source": [
    "## 4. Réglage des hyperparamètres"
   ]
  },
  {
   "cell_type": "markdown",
   "metadata": {},
   "source": [
    "Recherche exhaustive sur `n_neighbors` et ordre `p` de la distance de Minkowski.\n",
    "* p = 1 correspond à la distance de Manhattan\n",
    "* p = 2 correspond à la distance euclidienne\n",
    "* p = $\\infty$ correspond à la distance de Chebyshev\n",
    "\n",
    "Nous avons choisi de se concentrer uniquement sur la distance de Minkowski, étant celle la plus courante."
   ]
  },
  {
   "cell_type": "code",
   "execution_count": 34,
   "metadata": {},
   "outputs": [],
   "source": [
    "# n_neighbors\n",
    "n_neighbors = list(range(1,40,2))\n",
    "\n",
    "# p\n",
    "p = [1, 2, \"+infty\"]\n",
    "\n",
    "param_grid = {\n",
    "    'n_neighbors': n_neighbors,\n",
    "    'p': p,\n",
    "}"
   ]
  },
  {
   "cell_type": "markdown",
   "metadata": {},
   "source": [
    "### Sans feature selection"
   ]
  },
  {
   "cell_type": "code",
   "execution_count": 35,
   "metadata": {},
   "outputs": [
    {
     "name": "stdout",
     "output_type": "stream",
     "text": [
      "Execution time for k nearest classifier training: 540.265051 sec\n"
     ]
    }
   ],
   "source": [
    "# 10 MIN\n",
    "# Instanciation du grid search model\n",
    "grid_search_knn = pt.GridSearchCV(estimator = knn.OurKNeighborsClassifier, \n",
    "                                  param_distributions = param_grid,\n",
    "                                  cv = 5)\n",
    "\n",
    "# Entrainement du modele\n",
    "start = time.time()\n",
    "grid_search_knn.fit(data_train, label_train)\n",
    "end = time.time()\n",
    "print(\"Execution time for k nearest classifier training: %f sec\"%(float(end) - float(start)))"
   ]
  },
  {
   "cell_type": "code",
   "execution_count": 56,
   "metadata": {},
   "outputs": [
    {
     "data": {
      "image/png": "[encoded data removed]",
      "text/plain": [
       "<Figure size 432x288 with 1 Axes>"
      ]
     },
     "metadata": {
      "needs_background": "light"
     },
     "output_type": "display_data"
    }
   ],
   "source": [
    "cv_results = grid_search_knn.cv_results_\n",
    "\n",
    "# Calcul des erreurs de classification selon l'ordre p de la distance de minkowski\n",
    "mse = defaultdict(list)\n",
    "for i, estimator in enumerate(cv_results[\"estimators\"]):\n",
    "    p_value = estimator.get_params()[\"p\"]\n",
    "    mse[p_value].append(1 - cv_results[\"scores\"][i])\n",
    "\n",
    "# Affichage de l'erreur de classification en fonction de la valeur de k \n",
    "# et de l'ordre p de la distance de minkowski\n",
    "plt.plot(n_neighbors, mse[1], label=\"p = 1\")\n",
    "plt.plot(n_neighbors, mse[2], label=\"p = 2\")\n",
    "plt.plot(n_neighbors, mse[\"+infty\"], label=\"p = +infinity\")\n",
    "plt.suptitle(\"K Nearest Neighbors without feature selection\")\n",
    "plt.title(\"Misclassification error in % versus k\")\n",
    "plt.xlabel(\"Number of Neighbors k\")\n",
    "plt.ylabel(\"Misclassification Error\")\n",
    "plt.legend()\n",
    "plt.savefig(\"Models/knn_misclassification_error.png\")\n",
    "plt.show()\n",
    "plt.close()"
   ]
  },
  {
   "cell_type": "markdown",
   "metadata": {},
   "source": [
    "On observe l'importance de la distance utilisée sur la performance du modèle. Les erreurs résultantes de la distance de Chebyshev sont deux fois plus importantes qu'avec la distance de Manhattan ou euclidienne. Quant à ces deux distances, les erreurs sont sensiblement les mêmes. Toutefois un minimum existe et est atteint lorsque :\n",
    "        \n",
    "        p = 1\n",
    "        k = 7\n",
    "        \n",
    "L'utilisation d'une autre distance peut potentiellement améliorer la précision du modèle mais nous n'en étudierons pas dans ce notebook."
   ]
  },
  {
   "cell_type": "code",
   "execution_count": 37,
   "metadata": {},
   "outputs": [
    {
     "name": "stdout",
     "output_type": "stream",
     "text": [
      "The best hyperparameters from Grid Search are:\n",
      " {'n_neighbors': 7, 'metric': <function minkowski at 0x000001CB04E4A798>, 'p': 1}\n",
      "\n",
      "The mean accuracy of a model with these hyperparameters is:\n",
      " 0.71\n"
     ]
    }
   ],
   "source": [
    "print(\"The best hyperparameters from Grid Search are:\\n\", grid_search_knn.best_params_)\n",
    "print(\"\")\n",
    "print(\"The mean accuracy of a model with these hyperparameters is:\\n %.2f\"%(grid_search_knn.best_score_))"
   ]
  },
  {
   "cell_type": "markdown",
   "metadata": {},
   "source": [
    "### Avec feature selection"
   ]
  },
  {
   "cell_type": "code",
   "execution_count": 49,
   "metadata": {},
   "outputs": [
    {
     "name": "stdout",
     "output_type": "stream",
     "text": [
      "Execution time for k nearest classifier training: 580.853213 sec\n"
     ]
    }
   ],
   "source": [
    "# Instanciation du grid search model\n",
    "fs_grid_search_knn = pt.GridSearchCV(estimator = knn.OurKNeighborsClassifier, \n",
    "                                  param_distributions = param_grid,\n",
    "                                  cv = 5)\n",
    "\n",
    "# Entrainement du modele\n",
    "start = time.time()\n",
    "fs_grid_search_knn.fit(fs_data_train, label_train)\n",
    "end = time.time()\n",
    "print(\"Execution time for k nearest classifier training: %f sec\"%(float(end) - float(start)))"
   ]
  },
  {
   "cell_type": "code",
   "execution_count": 55,
   "metadata": {},
   "outputs": [
    {
     "data": {
      "image/png": "[encoded data removed]",
      "text/plain": [
       "<Figure size 432x288 with 1 Axes>"
      ]
     },
     "metadata": {
      "needs_background": "light"
     },
     "output_type": "display_data"
    }
   ],
   "source": [
    "fs_cv_results = fs_grid_search_knn.cv_results_\n",
    "\n",
    "# Calcul des erreurs de classification selon l'ordre p de la distance de minkowski\n",
    "mse = defaultdict(list)\n",
    "for i, estimator in enumerate(fs_cv_results[\"estimators\"]):\n",
    "    p_value = estimator.get_params()[\"p\"]\n",
    "    mse[p_value].append(1 - fs_cv_results[\"scores\"][i])\n",
    "\n",
    "# Affichage de l'erreur de classification en fonction de la valeur de k \n",
    "# et de l'ordre p de la distance de minkowski\n",
    "plt.plot(n_neighbors, mse[1], label=\"p = 1\")\n",
    "plt.plot(n_neighbors, mse[2], label=\"p = 2\")\n",
    "plt.plot(n_neighbors, mse[\"+infty\"], label=\"p = +infinity\")\n",
    "plt.suptitle(\"K Nearest Neighbors with feature selection\")\n",
    "plt.title(\"Misclassification error in % versus k\")\n",
    "plt.xlabel(\"Number of Neighbors k\")\n",
    "plt.ylabel(\"Misclassification Error\")\n",
    "plt.legend()\n",
    "plt.savefig(\"Models/knn_fs_misclassification_error.png\")\n",
    "plt.show()\n",
    "plt.close()"
   ]
  },
  {
   "cell_type": "code",
   "execution_count": 51,
   "metadata": {},
   "outputs": [
    {
     "name": "stdout",
     "output_type": "stream",
     "text": [
      "The best hyperparameters from Grid Search are:\n",
      " {'n_neighbors': 9, 'metric': <function minkowski at 0x000001CB04E4A798>, 'p': 1}\n",
      "\n",
      "The mean accuracy of a model with these hyperparameters is:\n",
      " 0.73\n"
     ]
    }
   ],
   "source": [
    "print(\"The best hyperparameters from Grid Search are:\\n\", fs_grid_search_knn.best_params_)\n",
    "print(\"\")\n",
    "print(\"The mean accuracy of a model with these hyperparameters is:\\n %.2f\"%(fs_grid_search_knn.best_score_))"
   ]
  },
  {
   "cell_type": "markdown",
   "metadata": {},
   "source": [
    "On sauvegarde le meilleur modèle des deux situations."
   ]
  },
  {
   "cell_type": "code",
   "execution_count": 52,
   "metadata": {},
   "outputs": [],
   "source": [
    "best_knn = grid_search_knn.best_estimator_\n",
    "best_fs_knn = fs_grid_search_knn.best_estimator_"
   ]
  },
  {
   "cell_type": "markdown",
   "metadata": {},
   "source": [
    "# 5. Comparaison des deux meilleurs modèles\n",
    "Avec et sans sélection des caractéristiques"
   ]
  },
  {
   "cell_type": "code",
   "execution_count": 59,
   "metadata": {},
   "outputs": [
    {
     "name": "stdout",
     "output_type": "stream",
     "text": [
      "Base model parameters:\n",
      " {'n_neighbors': 1, 'metric': <function minkowski at 0x000001CB04E4A798>, 'p': 2}\n",
      "\n",
      "Best model parameters without feature selection:\n",
      " {'n_neighbors': 7, 'metric': <function minkowski at 0x000001CB04E4A798>, 'p': 1}\n",
      "\n",
      "Best model parameters with feature selection:\n",
      " {'n_neighbors': 9, 'metric': <function minkowski at 0x000001CB04E4A798>, 'p': 1}\n"
     ]
    }
   ],
   "source": [
    "print(\"Base model parameters:\\n\", base_model.get_params())\n",
    "print(\"\\nBest model parameters without feature selection:\\n\", best_knn.get_params())\n",
    "print(\"\\nBest model parameters with feature selection:\\n\", best_fs_knn.get_params())"
   ]
  },
  {
   "cell_type": "markdown",
   "metadata": {},
   "source": [
    "On entraîne les deux modèles."
   ]
  },
  {
   "cell_type": "code",
   "execution_count": 70,
   "metadata": {},
   "outputs": [
    {
     "name": "stdout",
     "output_type": "stream",
     "text": [
      "Execution time for k nearest classifier training: 5.253010 sec\n"
     ]
    }
   ],
   "source": [
    "# Entrainement du meilleur modele sans selection des caractéristiques\n",
    "best_knn.fit(data_train, label_train)\n",
    "\n",
    "# Test de validation\n",
    "start = time.time()\n",
    "best_knn_predictions = best_knn.predict(data_test)\n",
    "end = time.time()\n",
    "print(\"Execution time for k nearest classifier training: %f sec\"%(float(end) - float(start)))\n",
    "\n",
    "best_knn.score_ = sc.accuracy_score(best_knn_predictions, label_test) * 100"
   ]
  },
  {
   "cell_type": "code",
   "execution_count": 71,
   "metadata": {},
   "outputs": [
    {
     "name": "stdout",
     "output_type": "stream",
     "text": [
      "Execution time for k nearest classifier training: 3.706598 sec\n"
     ]
    }
   ],
   "source": [
    "# Entrainement du meilleur modele avec selection des caracteristiques\n",
    "best_fs_knn.fit(data_train, label_train)\n",
    "\n",
    "# Test de validation\n",
    "start = time.time()\n",
    "best_fs_knn_predictions = best_fs_knn.predict(data_test)\n",
    "end = time.time()\n",
    "print(\"Execution time for k nearest classifier training: %f sec\"%(float(end) - float(start)))\n",
    "\n",
    "best_fs_knn.score_ = sc.accuracy_score(best_fs_knn_predictions, label_test) * 100"
   ]
  },
  {
   "cell_type": "markdown",
   "metadata": {},
   "source": [
    "### Matrices de confusion"
   ]
  },
  {
   "cell_type": "code",
   "execution_count": 61,
   "metadata": {},
   "outputs": [],
   "source": [
    "d = {\n",
    "    'genre': genre_list,\n",
    "    'genre_code': labels\n",
    "}\n",
    "df_genre = pd.DataFrame(d).drop_duplicates().sort_values('genre_code')"
   ]
  },
  {
   "cell_type": "code",
   "execution_count": 72,
   "metadata": {},
   "outputs": [
    {
     "data": {
      "image/png": "[encoded data removed]",
      "text/plain": [
       "<Figure size 921.6x432 with 2 Axes>"
      ]
     },
     "metadata": {
      "needs_background": "light"
     },
     "output_type": "display_data"
    }
   ],
   "source": [
    "from sklearn.metrics import confusion_matrix\n",
    "import seaborn as sns\n",
    "\n",
    "conf_matrix = confusion_matrix(label_test, best_knn_predictions)\n",
    "plt.figure(figsize=(12.8,6))\n",
    "sns.heatmap(conf_matrix,\n",
    "            annot=True,\n",
    "            xticklabels=df_genre['genre'].values,\n",
    "            yticklabels=df_genre['genre'].values,\n",
    "            cmap=\"Blues\")\n",
    "            \n",
    "plt.ylabel('Predicted')\n",
    "plt.xlabel('Actual')\n",
    "plt.title('Confusion matrix for k nearest classifier without feature selection')\n",
    "plt.savefig('models/knn_conf_matrix.png')\n",
    "plt.show()\n",
    "plt.close()"
   ]
  },
  {
   "cell_type": "code",
   "execution_count": 73,
   "metadata": {},
   "outputs": [
    {
     "data": {
      "image/png": "[encoded data removed]",
      "text/plain": [
       "<Figure size 921.6x432 with 2 Axes>"
      ]
     },
     "metadata": {
      "needs_background": "light"
     },
     "output_type": "display_data"
    }
   ],
   "source": [
    "fs_conf_matrix = confusion_matrix(label_test, best_fs_knn_predictions)\n",
    "plt.figure(figsize=(12.8,6))\n",
    "sns.heatmap(fs_conf_matrix,\n",
    "            annot=True,\n",
    "            xticklabels=df_genre['genre'].values,\n",
    "            yticklabels=df_genre['genre'].values,\n",
    "            cmap=\"Blues\")\n",
    "            \n",
    "plt.ylabel('Predicted')\n",
    "plt.xlabel('Actual')\n",
    "plt.title('Confusion matrix for k nearest classifier with feature selection')\n",
    "plt.savefig('models/knn_fs_conf_matrix.png')\n",
    "plt.show()\n",
    "plt.close()"
   ]
  },
  {
   "cell_type": "markdown",
   "metadata": {},
   "source": [
    "Voyons si le réglage des hyperparamètres a permis d'obtenir un meilleur modèle."
   ]
  },
  {
   "cell_type": "code",
   "execution_count": 74,
   "metadata": {},
   "outputs": [
    {
     "name": "stdout",
     "output_type": "stream",
     "text": [
      "Base model score: 70.5 %\n",
      "Best model score without feature selection: 70.0 %\n",
      "Best model score with feature selection: 66.5 %\n"
     ]
    }
   ],
   "source": [
    "print(\"Base model score: {} %\".format(base_model.score_))\n",
    "print(\"Best model score without feature selection: {} %\".format(best_knn.score_))\n",
    "print(\"Best model score with feature selection: {} %\".format(best_fs_knn.score_))"
   ]
  },
  {
   "cell_type": "markdown",
   "metadata": {},
   "source": [
    "Finalement, la selection de caractéristiques n'a pas permis d'améliorer le modèle. \n",
    "Les résultats entre le modèle de base et le meilleur modèle sans sélection de caractéristiques sont sensiblement les mêmes. On peut donc conserver le modèle dont le temps de prédiction est la plus petite, c'est-à-dire **le modèle de base**."
   ]
  },
  {
   "cell_type": "markdown",
   "metadata": {},
   "source": [
    "Sauvegardons le score du modèle pour pouvoir le comparer aux autres modèles."
   ]
  },
  {
   "cell_type": "code",
   "execution_count": 75,
   "metadata": {},
   "outputs": [],
   "source": [
    "d = {\n",
    "    'Model': 'K Nearest Neighbors',\n",
    "    'Test Set Accuracy': base_model.score_\n",
    "}\n",
    "\n",
    "df_models_knn = pd.DataFrame(d, index=[0])"
   ]
  },
  {
   "cell_type": "code",
   "execution_count": 77,
   "metadata": {},
   "outputs": [],
   "source": [
    "with open('models/best_knn.pickle', 'wb') as output:\n",
    "    pickle.dump(base_model, output)\n",
    "\n",
    "with open('models/df_models_knn.pickle', 'wb') as output:\n",
    "    pickle.dump(df_models_knn, output)"
   ]
  }
 ],
 "metadata": {
  "file_extension": ".py",
  "kernelspec": {
   "display_name": "Python 3.7.6 64-bit",
   "language": "python",
   "name": "python37664bit130b65de45ae4ae8a1d5066beb0585a6"
  },
  "language_info": {
   "codemirror_mode": {
    "name": "ipython",
    "version": 3
   },
   "file_extension": ".py",
   "mimetype": "text/x-python",
   "name": "python",
   "nbconvert_exporter": "python",
   "pygments_lexer": "ipython3",
   "version": "3.7.6"
  },
  "mimetype": "text/x-python",
  "name": "python",
  "npconvert_exporter": "python",
  "pygments_lexer": "ipython3",
  "version": 3
 },
 "nbformat": 4,
 "nbformat_minor": 2
}
